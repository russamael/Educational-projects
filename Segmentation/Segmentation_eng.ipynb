{
 "cells": [
  {
   "cell_type": "markdown",
   "metadata": {},
   "source": [
    "\n",
    "# User base segmentation (bulliten board application)"
   ]
  },
  {
   "cell_type": "markdown",
   "metadata": {},
   "source": [
    "### Dashboard:\n",
    "\n",
    "https://public.tableau.com/views/Book_2_16637039800040/Dashboard1?:language=en-US&publish=yes&:display_count=n&:origin=viz_share_link\n"
   ]
  },
  {
   "cell_type": "markdown",
   "metadata": {},
   "source": [
    "Research tasks:\n",
    "- reveal segments based on event statistics \n",
    "- define the most promising segments\n",
    "- compare traffic from different sources \n",
    "\n",
    "Deliverables:\n",
    "- Jupyter notebook\n",
    "- Dashboard\n",
    "\n",
    "\n",
    "Databases:\n",
    "- Event logs\n",
    "- Traffic source info\n",
    "\n",
    "\n"
   ]
  },
  {
   "cell_type": "markdown",
   "metadata": {},
   "source": [
    "## Step 1. Downloading the data"
   ]
  },
  {
   "cell_type": "code",
   "execution_count": 1,
   "metadata": {},
   "outputs": [],
   "source": [
    "import pandas as pd\n",
    "from scipy import stats as st\n",
    "import numpy as np\n",
    "import math as mth\n",
    "import datetime as dt\n",
    "import matplotlib.pyplot as plt\n",
    "import seaborn as sns \n",
    "import os \n",
    "import plotly.express as px\n",
    "from plotly import graph_objects as go\n",
    "from plotly.subplots import make_subplots\n",
    "import regex as re\n",
    "import requests\n",
    "from functools import wraps\n",
    "from itertools import combinations\n",
    "\n",
    "from scipy.cluster.hierarchy import dendrogram, linkage \n",
    "from sklearn.preprocessing import StandardScaler\n",
    "from sklearn.cluster import KMeans\n",
    "from sklearn.model_selection import train_test_split\n",
    "\n",
    "\n"
   ]
  },
  {
   "cell_type": "code",
   "execution_count": 2,
   "metadata": {},
   "outputs": [],
   "source": [
    "mobile_sourсes = pd.read_csv('https://code.s3.yandex.net/datasets/mobile_soures.csv')\n",
    "mobile_dataset = pd.read_csv('https://code.s3.yandex.net/datasets/mobile_dataset.csv')"
   ]
  },
  {
   "cell_type": "code",
   "execution_count": 3,
   "metadata": {},
   "outputs": [
    {
     "name": "stdout",
     "output_type": "stream",
     "text": [
      "<class 'pandas.core.frame.DataFrame'>\n",
      "RangeIndex: 4293 entries, 0 to 4292\n",
      "Data columns (total 2 columns):\n",
      " #   Column  Non-Null Count  Dtype \n",
      "---  ------  --------------  ----- \n",
      " 0   userId  4293 non-null   object\n",
      " 1   source  4293 non-null   object\n",
      "dtypes: object(2)\n",
      "memory usage: 67.2+ KB\n"
     ]
    }
   ],
   "source": [
    "mobile_sourсes.info()"
   ]
  },
  {
   "cell_type": "code",
   "execution_count": 4,
   "metadata": {},
   "outputs": [
    {
     "name": "stdout",
     "output_type": "stream",
     "text": [
      "<class 'pandas.core.frame.DataFrame'>\n",
      "RangeIndex: 74197 entries, 0 to 74196\n",
      "Data columns (total 3 columns):\n",
      " #   Column      Non-Null Count  Dtype \n",
      "---  ------      --------------  ----- \n",
      " 0   event.time  74197 non-null  object\n",
      " 1   event.name  74197 non-null  object\n",
      " 2   user.id     74197 non-null  object\n",
      "dtypes: object(3)\n",
      "memory usage: 1.7+ MB\n"
     ]
    }
   ],
   "source": [
    "mobile_dataset.info()"
   ]
  },
  {
   "cell_type": "markdown",
   "metadata": {},
   "source": [
    "## Step 2. Checking / cleaning"
   ]
  },
  {
   "cell_type": "code",
   "execution_count": 5,
   "metadata": {},
   "outputs": [
    {
     "data": {
      "text/html": [
       "<div>\n",
       "<style scoped>\n",
       "    .dataframe tbody tr th:only-of-type {\n",
       "        vertical-align: middle;\n",
       "    }\n",
       "\n",
       "    .dataframe tbody tr th {\n",
       "        vertical-align: top;\n",
       "    }\n",
       "\n",
       "    .dataframe thead th {\n",
       "        text-align: right;\n",
       "    }\n",
       "</style>\n",
       "<table border=\"1\" class=\"dataframe\">\n",
       "  <thead>\n",
       "    <tr style=\"text-align: right;\">\n",
       "      <th></th>\n",
       "      <th>userId</th>\n",
       "      <th>source</th>\n",
       "    </tr>\n",
       "  </thead>\n",
       "  <tbody>\n",
       "    <tr>\n",
       "      <th>0</th>\n",
       "      <td>020292ab-89bc-4156-9acf-68bc2783f894</td>\n",
       "      <td>other</td>\n",
       "    </tr>\n",
       "    <tr>\n",
       "      <th>1</th>\n",
       "      <td>cf7eda61-9349-469f-ac27-e5b6f5ec475c</td>\n",
       "      <td>yandex</td>\n",
       "    </tr>\n",
       "    <tr>\n",
       "      <th>2</th>\n",
       "      <td>8c356c42-3ba9-4cb6-80b8-3f868d0192c3</td>\n",
       "      <td>yandex</td>\n",
       "    </tr>\n",
       "    <tr>\n",
       "      <th>3</th>\n",
       "      <td>d9b06b47-0f36-419b-bbb0-3533e582a6cb</td>\n",
       "      <td>other</td>\n",
       "    </tr>\n",
       "    <tr>\n",
       "      <th>4</th>\n",
       "      <td>f32e1e2a-3027-4693-b793-b7b3ff274439</td>\n",
       "      <td>google</td>\n",
       "    </tr>\n",
       "  </tbody>\n",
       "</table>\n",
       "</div>"
      ],
      "text/plain": [
       "                                 userId  source\n",
       "0  020292ab-89bc-4156-9acf-68bc2783f894   other\n",
       "1  cf7eda61-9349-469f-ac27-e5b6f5ec475c  yandex\n",
       "2  8c356c42-3ba9-4cb6-80b8-3f868d0192c3  yandex\n",
       "3  d9b06b47-0f36-419b-bbb0-3533e582a6cb   other\n",
       "4  f32e1e2a-3027-4693-b793-b7b3ff274439  google"
      ]
     },
     "execution_count": 5,
     "metadata": {},
     "output_type": "execute_result"
    }
   ],
   "source": [
    "mobile_sourсes.head()"
   ]
  },
  {
   "cell_type": "code",
   "execution_count": 6,
   "metadata": {},
   "outputs": [
    {
     "data": {
      "text/plain": [
       "array(['other', 'yandex', 'google'], dtype=object)"
      ]
     },
     "execution_count": 6,
     "metadata": {},
     "output_type": "execute_result"
    }
   ],
   "source": [
    "mobile_sourсes.source.unique()"
   ]
  },
  {
   "cell_type": "code",
   "execution_count": 7,
   "metadata": {},
   "outputs": [],
   "source": [
    "# changing names of the columns\n",
    "mobile_sourсes.columns = ['user_id', 'source']\n",
    "mobile_dataset.head()\n"
   ]
  },
  {
   "cell_type": "code",
   "execution_count": 9,
   "metadata": {},
   "outputs": [
    {
     "name": "stdout",
     "output_type": "stream",
     "text": [
      "<class 'pandas.core.frame.DataFrame'>\n",
      "RangeIndex: 74197 entries, 0 to 74196\n",
      "Data columns (total 3 columns):\n",
      " #   Column      Non-Null Count  Dtype \n",
      "---  ------      --------------  ----- \n",
      " 0   event_time  74197 non-null  object\n",
      " 1   event_name  74197 non-null  object\n",
      " 2   user_id     74197 non-null  object\n",
      "dtypes: object(3)\n",
      "memory usage: 1.7+ MB\n"
     ]
    },
    {
     "name": "stderr",
     "output_type": "stream",
     "text": [
      "/var/folders/n6/fppwbx8x2pg5n0hmn7vcc9dr0000gn/T/ipykernel_4886/2817600755.py:2: FutureWarning: The default value of regex will change from True to False in a future version. In addition, single character regular expressions will *not* be treated as literal strings when regex=True.\n",
      "  mobile_dataset.columns = mobile_dataset.columns.str.replace('.', '_')\n"
     ]
    }
   ],
   "source": [
    "# changind names of the columns\n",
    "mobile_dataset.columns = mobile_dataset.columns.str.replace('.', '_')\n",
    "mobile_dataset.info()"
   ]
  },
  {
   "cell_type": "code",
   "execution_count": 10,
   "metadata": {},
   "outputs": [
    {
     "name": "stdout",
     "output_type": "stream",
     "text": [
      "<class 'pandas.core.frame.DataFrame'>\n",
      "RangeIndex: 74197 entries, 0 to 74196\n",
      "Data columns (total 3 columns):\n",
      " #   Column      Non-Null Count  Dtype         \n",
      "---  ------      --------------  -----         \n",
      " 0   event_time  74197 non-null  datetime64[ns]\n",
      " 1   event_name  74197 non-null  object        \n",
      " 2   user_id     74197 non-null  object        \n",
      "dtypes: datetime64[ns](1), object(2)\n",
      "memory usage: 1.7+ MB\n"
     ]
    }
   ],
   "source": [
    "# applying proper format for time data\n",
    "mobile_dataset['event_time'] = pd.to_datetime(mobile_dataset['event_time'])\n",
    "mobile_dataset.info()"
   ]
  },
  {
   "cell_type": "code",
   "execution_count": 11,
   "metadata": {},
   "outputs": [
    {
     "data": {
      "text/plain": [
       "Timestamp('2019-10-07 00:00:00.431357')"
      ]
     },
     "metadata": {},
     "output_type": "display_data"
    },
    {
     "data": {
      "text/plain": [
       "Timestamp('2019-11-03 23:58:12.532487')"
      ]
     },
     "metadata": {},
     "output_type": "display_data"
    }
   ],
   "source": [
    "# checking time period\n",
    "display(mobile_dataset['event_time'].min())\n",
    "display(mobile_dataset['event_time'].max())"
   ]
  },
  {
   "cell_type": "code",
   "execution_count": 12,
   "metadata": {},
   "outputs": [
    {
     "data": {
      "text/plain": [
       "array(['advert_open', 'tips_show', 'map', 'contacts_show', 'search_4',\n",
       "       'search_5', 'tips_click', 'photos_show', 'search_1', 'search_2',\n",
       "       'search_3', 'favorites_add', 'contacts_call', 'search_6',\n",
       "       'search_7', 'show_contacts'], dtype=object)"
      ]
     },
     "execution_count": 12,
     "metadata": {},
     "output_type": "execute_result"
    }
   ],
   "source": [
    "# checking event names\n",
    "mobile_dataset.event_name.unique()"
   ]
  },
  {
   "cell_type": "code",
   "execution_count": 13,
   "metadata": {},
   "outputs": [
    {
     "data": {
      "text/plain": [
       "array(['advert_open', 'tips_show', 'map', 'contacts_show', 'search',\n",
       "       'tips_click', 'photos_show', 'favorites_add', 'contacts_call'],\n",
       "      dtype=object)"
      ]
     },
     "execution_count": 13,
     "metadata": {},
     "output_type": "execute_result"
    }
   ],
   "source": [
    "# there is a bug, fixing names\n",
    "mobile_dataset['event_name'] = mobile_dataset['event_name'].str.replace('show_contacts', 'contacts_show')\n",
    "for i in range(8):\n",
    "    mobile_dataset['event_name'] = mobile_dataset['event_name'].str.replace('search_'+str(i), 'search')\n",
    "mobile_dataset.event_name.unique()"
   ]
  },
  {
   "cell_type": "code",
   "execution_count": 14,
   "metadata": {},
   "outputs": [
    {
     "data": {
      "text/plain": [
       "4293"
      ]
     },
     "metadata": {},
     "output_type": "display_data"
    },
    {
     "data": {
      "text/plain": [
       "4293"
      ]
     },
     "metadata": {},
     "output_type": "display_data"
    }
   ],
   "source": [
    "# Checking if the data files are compatibale \n",
    "display(len(mobile_sourсes.user_id.unique()))\n",
    "display(len(mobile_dataset.user_id.unique()))"
   ]
  },
  {
   "cell_type": "code",
   "execution_count": 15,
   "metadata": {},
   "outputs": [
    {
     "data": {
      "text/plain": [
       "0"
      ]
     },
     "metadata": {},
     "output_type": "display_data"
    },
    {
     "data": {
      "text/plain": [
       "0"
      ]
     },
     "metadata": {},
     "output_type": "display_data"
    }
   ],
   "source": [
    "# duplicates\n",
    "display(mobile_sourсes.duplicated().sum())\n",
    "display(mobile_dataset.duplicated().sum())"
   ]
  },
  {
   "cell_type": "markdown",
   "metadata": {},
   "source": [
    "summary:\n",
    "- Time range 7th of October till 3rd of November\n",
    "- There are 4293 unique users"
   ]
  },
  {
   "cell_type": "markdown",
   "metadata": {},
   "source": [
    "## Step 3.1 Preparing the data"
   ]
  },
  {
   "cell_type": "markdown",
   "metadata": {},
   "source": [
    "We need a profile dataframe with unique users and their aggregated data\n"
   ]
  },
  {
   "cell_type": "code",
   "execution_count": 16,
   "metadata": {},
   "outputs": [
    {
     "data": {
      "text/html": [
       "<div>\n",
       "<style scoped>\n",
       "    .dataframe tbody tr th:only-of-type {\n",
       "        vertical-align: middle;\n",
       "    }\n",
       "\n",
       "    .dataframe tbody tr th {\n",
       "        vertical-align: top;\n",
       "    }\n",
       "\n",
       "    .dataframe thead th {\n",
       "        text-align: right;\n",
       "    }\n",
       "</style>\n",
       "<table border=\"1\" class=\"dataframe\">\n",
       "  <thead>\n",
       "    <tr style=\"text-align: right;\">\n",
       "      <th></th>\n",
       "      <th>user_id</th>\n",
       "      <th>first_ts</th>\n",
       "      <th>last_ts</th>\n",
       "      <th>total_duration</th>\n",
       "    </tr>\n",
       "  </thead>\n",
       "  <tbody>\n",
       "    <tr>\n",
       "      <th>0</th>\n",
       "      <td>0001b1d5-b74a-4cbf-aeb0-7df5947bf349</td>\n",
       "      <td>2019-10-07 13:39:45.989359</td>\n",
       "      <td>2019-10-22 11:30:52.807203</td>\n",
       "      <td>14 days 21:51:06.817844</td>\n",
       "    </tr>\n",
       "    <tr>\n",
       "      <th>1</th>\n",
       "      <td>00157779-810c-4498-9e05-a1e9e3cedf93</td>\n",
       "      <td>2019-10-19 21:34:33.849769</td>\n",
       "      <td>2019-11-03 17:12:09.708771</td>\n",
       "      <td>14 days 19:37:35.859002</td>\n",
       "    </tr>\n",
       "    <tr>\n",
       "      <th>2</th>\n",
       "      <td>00463033-5717-4bf1-91b4-09183923b9df</td>\n",
       "      <td>2019-11-01 13:54:35.385028</td>\n",
       "      <td>2019-11-01 14:19:17.860053</td>\n",
       "      <td>0 days 00:24:42.475025</td>\n",
       "    </tr>\n",
       "    <tr>\n",
       "      <th>3</th>\n",
       "      <td>004690c3-5a84-4bb7-a8af-e0c8f8fca64e</td>\n",
       "      <td>2019-10-18 22:14:05.555052</td>\n",
       "      <td>2019-10-31 21:42:15.606558</td>\n",
       "      <td>12 days 23:28:10.051506</td>\n",
       "    </tr>\n",
       "    <tr>\n",
       "      <th>4</th>\n",
       "      <td>00551e79-152e-4441-9cf7-565d7eb04090</td>\n",
       "      <td>2019-10-25 16:44:41.263364</td>\n",
       "      <td>2019-10-29 02:17:12.342406</td>\n",
       "      <td>3 days 09:32:31.079042</td>\n",
       "    </tr>\n",
       "  </tbody>\n",
       "</table>\n",
       "</div>"
      ],
      "text/plain": [
       "                                user_id                   first_ts  \\\n",
       "0  0001b1d5-b74a-4cbf-aeb0-7df5947bf349 2019-10-07 13:39:45.989359   \n",
       "1  00157779-810c-4498-9e05-a1e9e3cedf93 2019-10-19 21:34:33.849769   \n",
       "2  00463033-5717-4bf1-91b4-09183923b9df 2019-11-01 13:54:35.385028   \n",
       "3  004690c3-5a84-4bb7-a8af-e0c8f8fca64e 2019-10-18 22:14:05.555052   \n",
       "4  00551e79-152e-4441-9cf7-565d7eb04090 2019-10-25 16:44:41.263364   \n",
       "\n",
       "                     last_ts          total_duration  \n",
       "0 2019-10-22 11:30:52.807203 14 days 21:51:06.817844  \n",
       "1 2019-11-03 17:12:09.708771 14 days 19:37:35.859002  \n",
       "2 2019-11-01 14:19:17.860053  0 days 00:24:42.475025  \n",
       "3 2019-10-31 21:42:15.606558 12 days 23:28:10.051506  \n",
       "4 2019-10-29 02:17:12.342406  3 days 09:32:31.079042  "
      ]
     },
     "execution_count": 16,
     "metadata": {},
     "output_type": "execute_result"
    }
   ],
   "source": [
    "# Preparing DataFrame with general time info\n",
    "profiles = (mobile_dataset.sort_values(by= ['user_id', 'event_time'])\n",
    "            .groupby('user_id').agg({'event_time':{'first','last'}})\n",
    "            .reset_index()\n",
    "            )\n",
    "\n",
    "\n",
    "profiles.columns = ['user_id', 'first_ts', 'last_ts']\n",
    "profiles['total_duration'] = abs(profiles.last_ts - profiles.first_ts)\n",
    "profiles.head()"
   ]
  },
  {
   "cell_type": "code",
   "execution_count": 17,
   "metadata": {},
   "outputs": [
    {
     "data": {
      "text/html": [
       "<div>\n",
       "<style scoped>\n",
       "    .dataframe tbody tr th:only-of-type {\n",
       "        vertical-align: middle;\n",
       "    }\n",
       "\n",
       "    .dataframe tbody tr th {\n",
       "        vertical-align: top;\n",
       "    }\n",
       "\n",
       "    .dataframe thead th {\n",
       "        text-align: right;\n",
       "    }\n",
       "</style>\n",
       "<table border=\"1\" class=\"dataframe\">\n",
       "  <thead>\n",
       "    <tr style=\"text-align: right;\">\n",
       "      <th></th>\n",
       "      <th>user_id</th>\n",
       "      <th>first_ts</th>\n",
       "      <th>last_ts</th>\n",
       "      <th>total_duration</th>\n",
       "      <th>source</th>\n",
       "    </tr>\n",
       "  </thead>\n",
       "  <tbody>\n",
       "    <tr>\n",
       "      <th>0</th>\n",
       "      <td>0001b1d5-b74a-4cbf-aeb0-7df5947bf349</td>\n",
       "      <td>2019-10-07 13:39:45.989359</td>\n",
       "      <td>2019-10-22 11:30:52.807203</td>\n",
       "      <td>14 days 21:51:06.817844</td>\n",
       "      <td>other</td>\n",
       "    </tr>\n",
       "    <tr>\n",
       "      <th>1</th>\n",
       "      <td>00157779-810c-4498-9e05-a1e9e3cedf93</td>\n",
       "      <td>2019-10-19 21:34:33.849769</td>\n",
       "      <td>2019-11-03 17:12:09.708771</td>\n",
       "      <td>14 days 19:37:35.859002</td>\n",
       "      <td>yandex</td>\n",
       "    </tr>\n",
       "    <tr>\n",
       "      <th>2</th>\n",
       "      <td>00463033-5717-4bf1-91b4-09183923b9df</td>\n",
       "      <td>2019-11-01 13:54:35.385028</td>\n",
       "      <td>2019-11-01 14:19:17.860053</td>\n",
       "      <td>0 days 00:24:42.475025</td>\n",
       "      <td>yandex</td>\n",
       "    </tr>\n",
       "    <tr>\n",
       "      <th>3</th>\n",
       "      <td>004690c3-5a84-4bb7-a8af-e0c8f8fca64e</td>\n",
       "      <td>2019-10-18 22:14:05.555052</td>\n",
       "      <td>2019-10-31 21:42:15.606558</td>\n",
       "      <td>12 days 23:28:10.051506</td>\n",
       "      <td>google</td>\n",
       "    </tr>\n",
       "    <tr>\n",
       "      <th>4</th>\n",
       "      <td>00551e79-152e-4441-9cf7-565d7eb04090</td>\n",
       "      <td>2019-10-25 16:44:41.263364</td>\n",
       "      <td>2019-10-29 02:17:12.342406</td>\n",
       "      <td>3 days 09:32:31.079042</td>\n",
       "      <td>yandex</td>\n",
       "    </tr>\n",
       "  </tbody>\n",
       "</table>\n",
       "</div>"
      ],
      "text/plain": [
       "                                user_id                   first_ts  \\\n",
       "0  0001b1d5-b74a-4cbf-aeb0-7df5947bf349 2019-10-07 13:39:45.989359   \n",
       "1  00157779-810c-4498-9e05-a1e9e3cedf93 2019-10-19 21:34:33.849769   \n",
       "2  00463033-5717-4bf1-91b4-09183923b9df 2019-11-01 13:54:35.385028   \n",
       "3  004690c3-5a84-4bb7-a8af-e0c8f8fca64e 2019-10-18 22:14:05.555052   \n",
       "4  00551e79-152e-4441-9cf7-565d7eb04090 2019-10-25 16:44:41.263364   \n",
       "\n",
       "                     last_ts          total_duration  source  \n",
       "0 2019-10-22 11:30:52.807203 14 days 21:51:06.817844   other  \n",
       "1 2019-11-03 17:12:09.708771 14 days 19:37:35.859002  yandex  \n",
       "2 2019-11-01 14:19:17.860053  0 days 00:24:42.475025  yandex  \n",
       "3 2019-10-31 21:42:15.606558 12 days 23:28:10.051506  google  \n",
       "4 2019-10-29 02:17:12.342406  3 days 09:32:31.079042  yandex  "
      ]
     },
     "execution_count": 17,
     "metadata": {},
     "output_type": "execute_result"
    }
   ],
   "source": [
    "# adding sources\n",
    "profiles = profiles.merge(mobile_sourсes, on='user_id', how='left')\n",
    "profiles.head()"
   ]
  },
  {
   "cell_type": "code",
   "execution_count": 18,
   "metadata": {},
   "outputs": [
    {
     "data": {
      "text/html": [
       "<div>\n",
       "<style scoped>\n",
       "    .dataframe tbody tr th:only-of-type {\n",
       "        vertical-align: middle;\n",
       "    }\n",
       "\n",
       "    .dataframe tbody tr th {\n",
       "        vertical-align: top;\n",
       "    }\n",
       "\n",
       "    .dataframe thead th {\n",
       "        text-align: right;\n",
       "    }\n",
       "</style>\n",
       "<table border=\"1\" class=\"dataframe\">\n",
       "  <thead>\n",
       "    <tr style=\"text-align: right;\">\n",
       "      <th></th>\n",
       "      <th>user_id</th>\n",
       "      <th>ta_count</th>\n",
       "    </tr>\n",
       "  </thead>\n",
       "  <tbody>\n",
       "    <tr>\n",
       "      <th>0</th>\n",
       "      <td>00157779-810c-4498-9e05-a1e9e3cedf93</td>\n",
       "      <td>11</td>\n",
       "    </tr>\n",
       "    <tr>\n",
       "      <th>1</th>\n",
       "      <td>00551e79-152e-4441-9cf7-565d7eb04090</td>\n",
       "      <td>3</td>\n",
       "    </tr>\n",
       "    <tr>\n",
       "      <th>2</th>\n",
       "      <td>005fbea5-2678-406f-88a6-fbe9787e2268</td>\n",
       "      <td>3</td>\n",
       "    </tr>\n",
       "    <tr>\n",
       "      <th>3</th>\n",
       "      <td>00753c79-ea81-4456-acd0-a47a23ca2fb9</td>\n",
       "      <td>1</td>\n",
       "    </tr>\n",
       "    <tr>\n",
       "      <th>4</th>\n",
       "      <td>007d031d-5018-4e02-b7ee-72a30609173f</td>\n",
       "      <td>2</td>\n",
       "    </tr>\n",
       "  </tbody>\n",
       "</table>\n",
       "</div>"
      ],
      "text/plain": [
       "                                user_id  ta_count\n",
       "0  00157779-810c-4498-9e05-a1e9e3cedf93        11\n",
       "1  00551e79-152e-4441-9cf7-565d7eb04090         3\n",
       "2  005fbea5-2678-406f-88a6-fbe9787e2268         3\n",
       "3  00753c79-ea81-4456-acd0-a47a23ca2fb9         1\n",
       "4  007d031d-5018-4e02-b7ee-72a30609173f         2"
      ]
     },
     "execution_count": 18,
     "metadata": {},
     "output_type": "execute_result"
    }
   ],
   "source": [
    "# Creating columns for Target Action - Contact show\n",
    "show_contacts = (mobile_dataset.query('event_name == \"contacts_show\"')\n",
    "                .groupby('user_id')\n",
    "                .agg(ta_count=('user_id', 'count'))\n",
    "                .reset_index()\n",
    ")\n",
    "\n",
    "show_contacts.head()\n"
   ]
  },
  {
   "cell_type": "code",
   "execution_count": 19,
   "metadata": {},
   "outputs": [
    {
     "data": {
      "text/html": [
       "<div>\n",
       "<style scoped>\n",
       "    .dataframe tbody tr th:only-of-type {\n",
       "        vertical-align: middle;\n",
       "    }\n",
       "\n",
       "    .dataframe tbody tr th {\n",
       "        vertical-align: top;\n",
       "    }\n",
       "\n",
       "    .dataframe thead th {\n",
       "        text-align: right;\n",
       "    }\n",
       "</style>\n",
       "<table border=\"1\" class=\"dataframe\">\n",
       "  <thead>\n",
       "    <tr style=\"text-align: right;\">\n",
       "      <th></th>\n",
       "      <th>user_id</th>\n",
       "      <th>first_ts</th>\n",
       "      <th>last_ts</th>\n",
       "      <th>total_duration</th>\n",
       "      <th>source</th>\n",
       "      <th>target_action</th>\n",
       "      <th>ta_count</th>\n",
       "    </tr>\n",
       "  </thead>\n",
       "  <tbody>\n",
       "    <tr>\n",
       "      <th>0</th>\n",
       "      <td>0001b1d5-b74a-4cbf-aeb0-7df5947bf349</td>\n",
       "      <td>2019-10-07 13:39:45.989359</td>\n",
       "      <td>2019-10-22 11:30:52.807203</td>\n",
       "      <td>14 days 21:51:06.817844</td>\n",
       "      <td>other</td>\n",
       "      <td>False</td>\n",
       "      <td>0</td>\n",
       "    </tr>\n",
       "    <tr>\n",
       "      <th>1</th>\n",
       "      <td>00157779-810c-4498-9e05-a1e9e3cedf93</td>\n",
       "      <td>2019-10-19 21:34:33.849769</td>\n",
       "      <td>2019-11-03 17:12:09.708771</td>\n",
       "      <td>14 days 19:37:35.859002</td>\n",
       "      <td>yandex</td>\n",
       "      <td>True</td>\n",
       "      <td>11</td>\n",
       "    </tr>\n",
       "    <tr>\n",
       "      <th>2</th>\n",
       "      <td>00463033-5717-4bf1-91b4-09183923b9df</td>\n",
       "      <td>2019-11-01 13:54:35.385028</td>\n",
       "      <td>2019-11-01 14:19:17.860053</td>\n",
       "      <td>0 days 00:24:42.475025</td>\n",
       "      <td>yandex</td>\n",
       "      <td>False</td>\n",
       "      <td>0</td>\n",
       "    </tr>\n",
       "    <tr>\n",
       "      <th>3</th>\n",
       "      <td>004690c3-5a84-4bb7-a8af-e0c8f8fca64e</td>\n",
       "      <td>2019-10-18 22:14:05.555052</td>\n",
       "      <td>2019-10-31 21:42:15.606558</td>\n",
       "      <td>12 days 23:28:10.051506</td>\n",
       "      <td>google</td>\n",
       "      <td>False</td>\n",
       "      <td>0</td>\n",
       "    </tr>\n",
       "    <tr>\n",
       "      <th>4</th>\n",
       "      <td>00551e79-152e-4441-9cf7-565d7eb04090</td>\n",
       "      <td>2019-10-25 16:44:41.263364</td>\n",
       "      <td>2019-10-29 02:17:12.342406</td>\n",
       "      <td>3 days 09:32:31.079042</td>\n",
       "      <td>yandex</td>\n",
       "      <td>True</td>\n",
       "      <td>3</td>\n",
       "    </tr>\n",
       "  </tbody>\n",
       "</table>\n",
       "</div>"
      ],
      "text/plain": [
       "                                user_id                   first_ts  \\\n",
       "0  0001b1d5-b74a-4cbf-aeb0-7df5947bf349 2019-10-07 13:39:45.989359   \n",
       "1  00157779-810c-4498-9e05-a1e9e3cedf93 2019-10-19 21:34:33.849769   \n",
       "2  00463033-5717-4bf1-91b4-09183923b9df 2019-11-01 13:54:35.385028   \n",
       "3  004690c3-5a84-4bb7-a8af-e0c8f8fca64e 2019-10-18 22:14:05.555052   \n",
       "4  00551e79-152e-4441-9cf7-565d7eb04090 2019-10-25 16:44:41.263364   \n",
       "\n",
       "                     last_ts          total_duration  source  target_action  \\\n",
       "0 2019-10-22 11:30:52.807203 14 days 21:51:06.817844   other          False   \n",
       "1 2019-11-03 17:12:09.708771 14 days 19:37:35.859002  yandex           True   \n",
       "2 2019-11-01 14:19:17.860053  0 days 00:24:42.475025  yandex          False   \n",
       "3 2019-10-31 21:42:15.606558 12 days 23:28:10.051506  google          False   \n",
       "4 2019-10-29 02:17:12.342406  3 days 09:32:31.079042  yandex           True   \n",
       "\n",
       "   ta_count  \n",
       "0         0  \n",
       "1        11  \n",
       "2         0  \n",
       "3         0  \n",
       "4         3  "
      ]
     },
     "execution_count": 19,
     "metadata": {},
     "output_type": "execute_result"
    }
   ],
   "source": [
    "# merging  profiles and target action info\n",
    "profiles['target_action'] = profiles.user_id.isin(show_contacts['user_id'])\n",
    "profiles = profiles.merge(show_contacts, on='user_id', how='left')\n",
    "profiles['ta_count'] = profiles.ta_count.fillna(0).astype('int32')\n",
    "profiles.head()\n"
   ]
  },
  {
   "cell_type": "code",
   "execution_count": 20,
   "metadata": {},
   "outputs": [
    {
     "data": {
      "text/html": [
       "<div>\n",
       "<style scoped>\n",
       "    .dataframe tbody tr th:only-of-type {\n",
       "        vertical-align: middle;\n",
       "    }\n",
       "\n",
       "    .dataframe tbody tr th {\n",
       "        vertical-align: top;\n",
       "    }\n",
       "\n",
       "    .dataframe thead th {\n",
       "        text-align: right;\n",
       "    }\n",
       "</style>\n",
       "<table border=\"1\" class=\"dataframe\">\n",
       "  <thead>\n",
       "    <tr style=\"text-align: right;\">\n",
       "      <th></th>\n",
       "      <th>event_time</th>\n",
       "      <th>event_name</th>\n",
       "      <th>user_id</th>\n",
       "      <th>rank</th>\n",
       "    </tr>\n",
       "  </thead>\n",
       "  <tbody>\n",
       "    <tr>\n",
       "      <th>0</th>\n",
       "      <td>2019-10-07 13:39:45.989359</td>\n",
       "      <td>tips_show</td>\n",
       "      <td>0001b1d5-b74a-4cbf-aeb0-7df5947bf349</td>\n",
       "      <td>1.0</td>\n",
       "    </tr>\n",
       "    <tr>\n",
       "      <th>1</th>\n",
       "      <td>2019-10-07 13:40:31.052909</td>\n",
       "      <td>tips_show</td>\n",
       "      <td>0001b1d5-b74a-4cbf-aeb0-7df5947bf349</td>\n",
       "      <td>2.0</td>\n",
       "    </tr>\n",
       "    <tr>\n",
       "      <th>2</th>\n",
       "      <td>2019-10-07 13:41:05.722489</td>\n",
       "      <td>tips_show</td>\n",
       "      <td>0001b1d5-b74a-4cbf-aeb0-7df5947bf349</td>\n",
       "      <td>3.0</td>\n",
       "    </tr>\n",
       "    <tr>\n",
       "      <th>3</th>\n",
       "      <td>2019-10-07 13:43:20.735461</td>\n",
       "      <td>tips_show</td>\n",
       "      <td>0001b1d5-b74a-4cbf-aeb0-7df5947bf349</td>\n",
       "      <td>4.0</td>\n",
       "    </tr>\n",
       "    <tr>\n",
       "      <th>4</th>\n",
       "      <td>2019-10-07 13:45:30.917502</td>\n",
       "      <td>tips_show</td>\n",
       "      <td>0001b1d5-b74a-4cbf-aeb0-7df5947bf349</td>\n",
       "      <td>5.0</td>\n",
       "    </tr>\n",
       "    <tr>\n",
       "      <th>5</th>\n",
       "      <td>2019-10-07 13:45:43.212340</td>\n",
       "      <td>tips_show</td>\n",
       "      <td>0001b1d5-b74a-4cbf-aeb0-7df5947bf349</td>\n",
       "      <td>6.0</td>\n",
       "    </tr>\n",
       "    <tr>\n",
       "      <th>6</th>\n",
       "      <td>2019-10-07 13:46:31.033718</td>\n",
       "      <td>tips_show</td>\n",
       "      <td>0001b1d5-b74a-4cbf-aeb0-7df5947bf349</td>\n",
       "      <td>7.0</td>\n",
       "    </tr>\n",
       "    <tr>\n",
       "      <th>7</th>\n",
       "      <td>2019-10-07 13:47:32.860234</td>\n",
       "      <td>tips_show</td>\n",
       "      <td>0001b1d5-b74a-4cbf-aeb0-7df5947bf349</td>\n",
       "      <td>8.0</td>\n",
       "    </tr>\n",
       "    <tr>\n",
       "      <th>8</th>\n",
       "      <td>2019-10-07 13:49:41.716617</td>\n",
       "      <td>tips_show</td>\n",
       "      <td>0001b1d5-b74a-4cbf-aeb0-7df5947bf349</td>\n",
       "      <td>9.0</td>\n",
       "    </tr>\n",
       "    <tr>\n",
       "      <th>9</th>\n",
       "      <td>2019-10-09 18:33:55.577963</td>\n",
       "      <td>map</td>\n",
       "      <td>0001b1d5-b74a-4cbf-aeb0-7df5947bf349</td>\n",
       "      <td>10.0</td>\n",
       "    </tr>\n",
       "    <tr>\n",
       "      <th>10</th>\n",
       "      <td>2019-10-09 18:35:28.260975</td>\n",
       "      <td>map</td>\n",
       "      <td>0001b1d5-b74a-4cbf-aeb0-7df5947bf349</td>\n",
       "      <td>11.0</td>\n",
       "    </tr>\n",
       "    <tr>\n",
       "      <th>11</th>\n",
       "      <td>2019-10-09 18:40:28.738785</td>\n",
       "      <td>tips_show</td>\n",
       "      <td>0001b1d5-b74a-4cbf-aeb0-7df5947bf349</td>\n",
       "      <td>12.0</td>\n",
       "    </tr>\n",
       "    <tr>\n",
       "      <th>12</th>\n",
       "      <td>2019-10-09 18:42:22.963948</td>\n",
       "      <td>tips_show</td>\n",
       "      <td>0001b1d5-b74a-4cbf-aeb0-7df5947bf349</td>\n",
       "      <td>13.0</td>\n",
       "    </tr>\n",
       "    <tr>\n",
       "      <th>13</th>\n",
       "      <td>2019-10-21 19:52:30.778932</td>\n",
       "      <td>tips_show</td>\n",
       "      <td>0001b1d5-b74a-4cbf-aeb0-7df5947bf349</td>\n",
       "      <td>14.0</td>\n",
       "    </tr>\n",
       "    <tr>\n",
       "      <th>14</th>\n",
       "      <td>2019-10-21 19:53:17.165009</td>\n",
       "      <td>tips_show</td>\n",
       "      <td>0001b1d5-b74a-4cbf-aeb0-7df5947bf349</td>\n",
       "      <td>15.0</td>\n",
       "    </tr>\n",
       "    <tr>\n",
       "      <th>15</th>\n",
       "      <td>2019-10-21 19:53:38.767230</td>\n",
       "      <td>map</td>\n",
       "      <td>0001b1d5-b74a-4cbf-aeb0-7df5947bf349</td>\n",
       "      <td>16.0</td>\n",
       "    </tr>\n",
       "    <tr>\n",
       "      <th>16</th>\n",
       "      <td>2019-10-21 19:54:45.009859</td>\n",
       "      <td>tips_show</td>\n",
       "      <td>0001b1d5-b74a-4cbf-aeb0-7df5947bf349</td>\n",
       "      <td>17.0</td>\n",
       "    </tr>\n",
       "    <tr>\n",
       "      <th>17</th>\n",
       "      <td>2019-10-21 19:54:56.854811</td>\n",
       "      <td>tips_show</td>\n",
       "      <td>0001b1d5-b74a-4cbf-aeb0-7df5947bf349</td>\n",
       "      <td>18.0</td>\n",
       "    </tr>\n",
       "    <tr>\n",
       "      <th>18</th>\n",
       "      <td>2019-10-21 19:56:49.417415</td>\n",
       "      <td>map</td>\n",
       "      <td>0001b1d5-b74a-4cbf-aeb0-7df5947bf349</td>\n",
       "      <td>19.0</td>\n",
       "    </tr>\n",
       "    <tr>\n",
       "      <th>19</th>\n",
       "      <td>2019-10-21 19:57:21.124551</td>\n",
       "      <td>tips_show</td>\n",
       "      <td>0001b1d5-b74a-4cbf-aeb0-7df5947bf349</td>\n",
       "      <td>20.0</td>\n",
       "    </tr>\n",
       "  </tbody>\n",
       "</table>\n",
       "</div>"
      ],
      "text/plain": [
       "                   event_time event_name  \\\n",
       "0  2019-10-07 13:39:45.989359  tips_show   \n",
       "1  2019-10-07 13:40:31.052909  tips_show   \n",
       "2  2019-10-07 13:41:05.722489  tips_show   \n",
       "3  2019-10-07 13:43:20.735461  tips_show   \n",
       "4  2019-10-07 13:45:30.917502  tips_show   \n",
       "5  2019-10-07 13:45:43.212340  tips_show   \n",
       "6  2019-10-07 13:46:31.033718  tips_show   \n",
       "7  2019-10-07 13:47:32.860234  tips_show   \n",
       "8  2019-10-07 13:49:41.716617  tips_show   \n",
       "9  2019-10-09 18:33:55.577963        map   \n",
       "10 2019-10-09 18:35:28.260975        map   \n",
       "11 2019-10-09 18:40:28.738785  tips_show   \n",
       "12 2019-10-09 18:42:22.963948  tips_show   \n",
       "13 2019-10-21 19:52:30.778932  tips_show   \n",
       "14 2019-10-21 19:53:17.165009  tips_show   \n",
       "15 2019-10-21 19:53:38.767230        map   \n",
       "16 2019-10-21 19:54:45.009859  tips_show   \n",
       "17 2019-10-21 19:54:56.854811  tips_show   \n",
       "18 2019-10-21 19:56:49.417415        map   \n",
       "19 2019-10-21 19:57:21.124551  tips_show   \n",
       "\n",
       "                                 user_id  rank  \n",
       "0   0001b1d5-b74a-4cbf-aeb0-7df5947bf349   1.0  \n",
       "1   0001b1d5-b74a-4cbf-aeb0-7df5947bf349   2.0  \n",
       "2   0001b1d5-b74a-4cbf-aeb0-7df5947bf349   3.0  \n",
       "3   0001b1d5-b74a-4cbf-aeb0-7df5947bf349   4.0  \n",
       "4   0001b1d5-b74a-4cbf-aeb0-7df5947bf349   5.0  \n",
       "5   0001b1d5-b74a-4cbf-aeb0-7df5947bf349   6.0  \n",
       "6   0001b1d5-b74a-4cbf-aeb0-7df5947bf349   7.0  \n",
       "7   0001b1d5-b74a-4cbf-aeb0-7df5947bf349   8.0  \n",
       "8   0001b1d5-b74a-4cbf-aeb0-7df5947bf349   9.0  \n",
       "9   0001b1d5-b74a-4cbf-aeb0-7df5947bf349  10.0  \n",
       "10  0001b1d5-b74a-4cbf-aeb0-7df5947bf349  11.0  \n",
       "11  0001b1d5-b74a-4cbf-aeb0-7df5947bf349  12.0  \n",
       "12  0001b1d5-b74a-4cbf-aeb0-7df5947bf349  13.0  \n",
       "13  0001b1d5-b74a-4cbf-aeb0-7df5947bf349  14.0  \n",
       "14  0001b1d5-b74a-4cbf-aeb0-7df5947bf349  15.0  \n",
       "15  0001b1d5-b74a-4cbf-aeb0-7df5947bf349  16.0  \n",
       "16  0001b1d5-b74a-4cbf-aeb0-7df5947bf349  17.0  \n",
       "17  0001b1d5-b74a-4cbf-aeb0-7df5947bf349  18.0  \n",
       "18  0001b1d5-b74a-4cbf-aeb0-7df5947bf349  19.0  \n",
       "19  0001b1d5-b74a-4cbf-aeb0-7df5947bf349  20.0  "
      ]
     },
     "execution_count": 20,
     "metadata": {},
     "output_type": "execute_result"
    }
   ],
   "source": [
    "# Now - creating info re sessions. At first we need to define the time threshold between events when ine session ends and starts another\n",
    "sessions = mobile_dataset.sort_values(by=['user_id', 'event_time']).reset_index(drop=True)\n",
    "sessions['rank'] = sessions.groupby('user_id')['event_time'].rank(method='dense')\n",
    "sessions.head(20)"
   ]
  },
  {
   "cell_type": "code",
   "execution_count": 21,
   "metadata": {},
   "outputs": [],
   "source": [
    "# Creating columns with data on time range between events\n",
    "\n",
    "for i in range(sessions.shape[0]):\n",
    "    if sessions.loc[i,'rank'] > 1:\n",
    "        sessions.loc[i,'gap'] = sessions.loc[i,'event_time'] - sessions.loc[i-1,'event_time']\n",
    "\n",
    "sessions['gap'] = pd.to_timedelta(sessions['gap'], unit='S', errors='coerce')\n",
    "sessions['gap_sec'] = sessions['gap'].dt.total_seconds().round()\n",
    "sessions['gap_sec'] = sessions['gap_sec'].fillna(0)\n",
    "sessions['gap_sec'] = sessions['gap_sec'].astype('int32')\n",
    "\n",
    "\n"
   ]
  },
  {
   "cell_type": "code",
   "execution_count": 22,
   "metadata": {},
   "outputs": [
    {
     "data": {
      "image/png": "[encoded data removed]",
      "text/plain": [
       "<Figure size 1080x720 with 1 Axes>"
      ]
     },
     "metadata": {
      "needs_background": "light"
     },
     "output_type": "display_data"
    }
   ],
   "source": [
    "sessions['gap_sec'].hist(bins=300, range=(0, 4000), figsize=(15,10))\n",
    "plt.title('Hist on time ranges between the events')\n",
    "plt.xlabel('Length of the range')\n",
    "plt.ylabel('Number of ranges in bin')\n",
    "plt.show()\n"
   ]
  },
  {
   "cell_type": "code",
   "execution_count": 23,
   "metadata": {},
   "outputs": [
    {
     "data": {
      "text/plain": [
       "count      74197.00\n",
       "mean       13172.22\n",
       "std        89336.36\n",
       "min            0.00\n",
       "25%           16.00\n",
       "50%           64.00\n",
       "75%          167.00\n",
       "max      2296195.00\n",
       "Name: gap_sec, dtype: object"
      ]
     },
     "execution_count": 23,
     "metadata": {},
     "output_type": "execute_result"
    }
   ],
   "source": [
    "sessions.gap_sec.describe().apply(\"{0:.2f}\".format)"
   ]
  },
  {
   "cell_type": "code",
   "execution_count": 24,
   "metadata": {},
   "outputs": [
    {
     "data": {
      "image/png": "[encoded data removed]",
      "text/plain": [
       "<Figure size 720x720 with 1 Axes>"
      ]
     },
     "metadata": {
      "needs_background": "light"
     },
     "output_type": "display_data"
    }
   ],
   "source": [
    "ax = sessions.query('gap_sec > 0').boxplot('gap_sec', figsize=(10,10))\n",
    "ax.set_ylim(0, 500)\n",
    "plt.title('Boxplot on time range distribution')\n",
    "plt.show()"
   ]
  },
  {
   "cell_type": "markdown",
   "metadata": {},
   "source": [
    "75% of cases lies under 185 seconds. This is 3 minutes between events. I assume that this is a correct threshold for session end. \n"
   ]
  },
  {
   "cell_type": "code",
   "execution_count": 25,
   "metadata": {},
   "outputs": [],
   "source": [
    "# Adding number of session for each user\n",
    "\n",
    "threshold = sessions.query('gap_sec > 0').gap_sec.quantile(0.75)\n",
    "\n",
    "session_counter = 1\n",
    "for i in range(sessions.shape[0]):\n",
    "    \n",
    "    if sessions.loc[i,'rank'] == 1:\n",
    "        session_counter = 1 # обнуляем счетчик\n",
    "        sessions.loc[i, 'session_cnt'] = session_counter\n",
    "        \n",
    "    elif sessions.loc[i,'rank'] > 1:\n",
    "        if sessions.loc[i, 'gap'] <= dt.timedelta(seconds=threshold):\n",
    "            sessions.loc[i, 'session_cnt'] = session_counter\n",
    "        elif sessions.loc[i, 'gap'] > dt.timedelta(seconds=threshold):\n",
    "            session_counter += 1\n",
    "            sessions.loc[i, 'session_cnt'] = session_counter\n"
   ]
  },
  {
   "cell_type": "code",
   "execution_count": 26,
   "metadata": {},
   "outputs": [],
   "source": [
    "# Adding durattion of session. In order to do that we need put aside stat on the first event for each session\n",
    "\n",
    "sessions['session_rank'] = sessions.groupby(['user_id', 'session_cnt'])['event_time'].rank(method='dense')\n"
   ]
  },
  {
   "cell_type": "code",
   "execution_count": 27,
   "metadata": {},
   "outputs": [],
   "source": [
    "# Removing first events and summirizing time ranges\n",
    "\n",
    "sessions_stat = sessions.query('session_rank != 1').groupby(['user_id', 'session_cnt']).agg(duration=('gap_sec','sum'), total_event=('user_id', 'count')).reset_index()\n",
    "\n",
    "# For event counts adding one event as we have removed first event prefiously\n",
    "sessions_stat['total_event'] = sessions_stat['total_event'] + 1\n"
   ]
  },
  {
   "cell_type": "code",
   "execution_count": 28,
   "metadata": {},
   "outputs": [],
   "source": [
    "# Calculating session duration\n",
    "\n",
    "sessions_avg = sessions_stat.groupby('user_id').agg(avg_duration=('duration','mean'))\n",
    "sessions_stat = sessions_stat.merge(sessions_avg, on='user_id', how='left')\n",
    "\n",
    "# merging with profiles\n",
    "sessions_stat_fin = sessions_stat.groupby('user_id').agg({'session_cnt':'last', 'duration':'sum', 'avg_duration':'first', 'total_event':'sum'}).reset_index()\n"
   ]
  },
  {
   "cell_type": "code",
   "execution_count": 29,
   "metadata": {
    "scrolled": true
   },
   "outputs": [],
   "source": [
    "profiles = profiles.merge(sessions_stat_fin, on='user_id', how='left')\n"
   ]
  },
  {
   "cell_type": "code",
   "execution_count": 30,
   "metadata": {},
   "outputs": [
    {
     "name": "stdout",
     "output_type": "stream",
     "text": [
      "user_id : 0\n",
      "first_ts : 0\n",
      "last_ts : 0\n",
      "total_duration : 0\n",
      "source : 0\n",
      "target_action : 0\n",
      "ta_count : 0\n",
      "session_cnt : 167\n",
      "duration : 167\n",
      "avg_duration : 167\n",
      "total_event : 167\n"
     ]
    }
   ],
   "source": [
    "# Checking on NaN\n",
    "for i in profiles.columns:\n",
    "        print(i, ':', profiles[i].isna().sum())"
   ]
  },
  {
   "cell_type": "markdown",
   "metadata": {},
   "source": [
    "There are users who have only one event, theuy show NaNs in new columns, we need to replace in on 1 for session count and 0 for session duration\n"
   ]
  },
  {
   "cell_type": "code",
   "execution_count": 31,
   "metadata": {},
   "outputs": [],
   "source": [
    "profiles['session_cnt'] = profiles['session_cnt'].fillna(1)\n",
    "profiles['total_event'] = profiles['total_event'].fillna(1)\n",
    "profiles['duration'] = profiles['duration'].fillna(0)\n",
    "profiles['avg_duration'] = profiles['avg_duration'].fillna(0)"
   ]
  },
  {
   "cell_type": "markdown",
   "metadata": {},
   "source": [
    "## Step 3.2 Analysis\n",
    "\n",
    "- Calculation retention rate on 7th and 14th day\n",
    "- Average time in the application\n",
    "- Average number of events\n",
    "- Conversion into the target action\n"
   ]
  },
  {
   "cell_type": "code",
   "execution_count": 32,
   "metadata": {},
   "outputs": [],
   "source": [
    "# retention rate\n",
    "\n",
    "profiles['retention_7d'] = profiles.total_duration >= dt.timedelta(days=7)\n",
    "profiles['retention_14d'] = profiles.total_duration >= dt.timedelta(days=14)\n"
   ]
  },
  {
   "cell_type": "code",
   "execution_count": 33,
   "metadata": {},
   "outputs": [
    {
     "name": "stdout",
     "output_type": "stream",
     "text": [
      "Total 7d retention =  18.61%\n",
      "Total 14d retention =  11.45%\n",
      "Average time in product (in sec) =  230.14\n",
      "Average events in product =  15.37\n",
      "Conversion =  22.85%\n"
     ]
    }
   ],
   "source": [
    "# At first we need to remove users which started to use application les than 7 of 14 days before our data file ends\n",
    "\n",
    "threshold_14d = mobile_dataset.event_time.max() - dt.timedelta(days=14)\n",
    "threshold_7d = mobile_dataset.event_time.max() - dt.timedelta(days=7)\n",
    "\n",
    "print('Total 7d retention = ', \n",
    "        \"{0:.2%}\".format(sum(profiles\n",
    "        .query('first_ts < @threshold_7d')\n",
    "        .retention_7d) \n",
    "        / \n",
    "        profiles\n",
    "        .query('first_ts < @threshold_7d')\n",
    "        .shape[0]))\n",
    "\n",
    "print('Total 14d retention = ', \n",
    "        \"{0:.2%}\".format(sum(profiles\n",
    "        .query('first_ts < @threshold_14d')\n",
    "        .retention_14d) \n",
    "        / \n",
    "        profiles\n",
    "        .query('first_ts < @threshold_14d')\n",
    "        .shape[0]))\n",
    "\n",
    "print('Average time in product (in sec) = ', \n",
    "        \"{0:.2f}\".format(profiles.avg_duration.mean()))\n",
    "\n",
    "print('Average events in product = ', \n",
    "        \"{0:.2f}\".format(profiles.total_event.mean()))\n",
    "\n",
    "print('Conversion = ', \n",
    "        \"{0:.2%}\".format(sum(profiles.target_action)/profiles.shape[0])\n",
    "        )\n"
   ]
  },
  {
   "cell_type": "code",
   "execution_count": 34,
   "metadata": {},
   "outputs": [],
   "source": [
    "# Conduction cohort analysis by traffic source\n",
    "cohorts = profiles[['user_id', 'first_ts', 'source', 'target_action']].copy()\n",
    "cohorts['first_ts'] = cohorts['first_ts'].dt.date\n",
    "cohort_stat = cohorts.pivot_table(index='first_ts', columns='source', values='target_action', aggfunc='sum').reset_index()\n",
    "cohort_size = cohorts.pivot_table(index='first_ts', columns='source', values='user_id', aggfunc='nunique').reset_index()\n",
    "cohort_stat.columns = ['ts', 'google_ta', 'other_ta', 'yandex_ta']\n",
    "cohort_size.columns = ['ts', 'google_size', 'other_size', 'yandex_size']\n",
    "\n",
    "cohort_stat = cohort_stat.merge(cohort_size, on='ts', how='left')\n",
    "cohort_stat['google_conv'] = round((cohort_stat['google_ta'] / cohort_stat['google_size'] * 100), 2)\n",
    "cohort_stat['other_conv'] = round((cohort_stat['other_ta'] / cohort_stat['other_size'] * 100), 2)\n",
    "cohort_stat['yandex_conv'] = round((cohort_stat['yandex_ta'] / cohort_stat['yandex_size'] * 100), 2)\n"
   ]
  },
  {
   "cell_type": "code",
   "execution_count": 35,
   "metadata": {},
   "outputs": [
    {
     "data": {
      "image/png": "[encoded data removed]",
      "text/plain": [
       "<Figure size 1080x360 with 2 Axes>"
      ]
     },
     "metadata": {
      "needs_background": "light"
     },
     "output_type": "display_data"
    }
   ],
   "source": [
    "plt.figure(figsize=(15,5))\n",
    "sns.heatmap(cohort_stat.set_index('ts')[['google_conv', 'other_conv', 'yandex_conv']].T, annot=True, linewidths=0)\n",
    "plt.title('Heatmap of the conversion cohorts by traffic source')\n",
    "plt.show()\n"
   ]
  },
  {
   "cell_type": "code",
   "execution_count": 36,
   "metadata": {},
   "outputs": [
    {
     "data": {
      "image/png": "[encoded data removed]",
      "text/plain": [
       "<Figure size 1080x360 with 1 Axes>"
      ]
     },
     "metadata": {
      "needs_background": "light"
     },
     "output_type": "display_data"
    }
   ],
   "source": [
    "# Number of events in the application\n",
    "\n",
    "mobile_dataset['event_date'] = mobile_dataset['event_time'].dt.date\n",
    "actions_stat = mobile_dataset.groupby('event_date').agg(count=('user_id','count')).reset_index()\n",
    "actions_stat\n",
    "\n",
    "plt.figure(figsize=(15,5))\n",
    "ax=sns.lineplot(data=actions_stat, x='event_date', y='count')\n",
    "plt.xticks(rotation=45)\n",
    "plt.xticks(actions_stat['event_date'])\n",
    "plt.title('Number of events by day')\n",
    "plt.show()"
   ]
  },
  {
   "cell_type": "markdown",
   "metadata": {},
   "source": [
    "## Step 4. Checking hypothesises \n",
    "\n",
    "- Traffic sources influece conversion\n",
    "- Traffic sources influence retention"
   ]
  },
  {
   "cell_type": "code",
   "execution_count": 37,
   "metadata": {},
   "outputs": [],
   "source": [
    "# Preparing z_test function \n",
    "\n",
    "\n",
    "def z_test(share1, share2, s_size1, s_size2, alpha = .05):\n",
    "    \n",
    "    p1 = share1 / s_size1\n",
    "    p2 = share2 / s_size2\n",
    "\n",
    "    p_combined = ((share1 + share2) / \n",
    "              (s_size1 + s_size2))\n",
    "\n",
    "    difference = p1 - p2 \n",
    "\n",
    "    z_value = difference / mth.sqrt(p_combined * (1 - p_combined) * (1/s_size1 + 1/s_size2))\n",
    "\n",
    "    distr = st.norm(0, 1)\n",
    "    p_value = (1 - distr.cdf(abs(z_value))) * 2\n",
    "\n",
    "    if p_value < alpha:\n",
    "        print('p-value is: ', p_value, 'the differencs is significant')\n",
    "    else: \n",
    "        print('p-value is: ', p_value, 'the difference if NOT significant')\n",
    "\n"
   ]
  },
  {
   "cell_type": "code",
   "execution_count": 38,
   "metadata": {},
   "outputs": [],
   "source": [
    "# Н0 - There is no difference in conversion\n",
    "# Н1 - There is difference in conversion\n",
    "\n",
    "\n",
    "def check_for(feature, source):\n",
    "    sources_comb = list(combinations(profiles[source].unique(),2)) # Bonferroni amendment\n",
    "    alpha_var = .05 / len(sources_comb)\n",
    "    for i in sources_comb:\n",
    "    \n",
    "        source1 = i[0]\n",
    "        source2 = i[1]\n",
    "        sample_1 = profiles.query('source == @source1')\n",
    "        sample_2 = profiles.query('source == @source2')\n",
    "    \n",
    "        share1 = sum(sample_1[feature]) \n",
    "        share2 = sum(sample_2[feature]) \n",
    "\n",
    "        print('For',i[0], 'converted :', share1, 'from:', sample_1.shape[0])\n",
    "        print('For',i[1], 'converted :', share2, 'from:', sample_2.shape[0])\n",
    "        print(z_test(share1, share2, sample_1.shape[0], sample_2.shape[0], alpha=alpha_var))\n",
    "        print()\n",
    "    \n",
    "\n",
    "\n"
   ]
  },
  {
   "cell_type": "code",
   "execution_count": 39,
   "metadata": {},
   "outputs": [
    {
     "name": "stdout",
     "output_type": "stream",
     "text": [
      "For other converted : 228 from: 1230\n",
      "For yandex converted : 478 from: 1934\n",
      "p-value is:  4.7142597613403225e-05 the differencs is significant\n",
      "None\n",
      "\n",
      "For other converted : 228 from: 1230\n",
      "For google converted : 275 from: 1129\n",
      "p-value is:  0.0005640941887214979 the differencs is significant\n",
      "None\n",
      "\n",
      "For yandex converted : 478 from: 1934\n",
      "For google converted : 275 from: 1129\n",
      "p-value is:  0.8244316027993777 the difference if NOT significant\n",
      "None\n",
      "\n"
     ]
    }
   ],
   "source": [
    "check_for('target_action', 'source')"
   ]
  },
  {
   "cell_type": "code",
   "execution_count": 40,
   "metadata": {
    "scrolled": true
   },
   "outputs": [
    {
     "name": "stdout",
     "output_type": "stream",
     "text": [
      "For other converted : 193 from: 1230\n",
      "For yandex converted : 283 from: 1934\n",
      "p-value is:  0.4170265299571527 the difference if NOT significant\n",
      "None\n",
      "\n",
      "For other converted : 193 from: 1230\n",
      "For google converted : 155 from: 1129\n",
      "p-value is:  0.17946079069880305 the difference if NOT significant\n",
      "None\n",
      "\n",
      "For yandex converted : 283 from: 1934\n",
      "For google converted : 155 from: 1129\n",
      "p-value is:  0.49056514647426575 the difference if NOT significant\n",
      "None\n",
      "\n"
     ]
    }
   ],
   "source": [
    "# Н0 - There is no difference in 7d retention\n",
    "# Н1 - There is difference in 7d retention\n",
    "\n",
    "check_for('retention_7d', 'source')"
   ]
  },
  {
   "cell_type": "code",
   "execution_count": 41,
   "metadata": {},
   "outputs": [
    {
     "name": "stdout",
     "output_type": "stream",
     "text": [
      "For other converted : 89 from: 1230\n",
      "For yandex converted : 114 from: 1934\n",
      "p-value is:  0.1333896286235292 the difference if NOT significant\n",
      "None\n",
      "\n",
      "For other converted : 89 from: 1230\n",
      "For google converted : 60 from: 1129\n",
      "p-value is:  0.05531918850452655 the difference if NOT significant\n",
      "None\n",
      "\n",
      "For yandex converted : 114 from: 1934\n",
      "For google converted : 60 from: 1129\n",
      "p-value is:  0.503433310173885 the difference if NOT significant\n",
      "None\n",
      "\n"
     ]
    }
   ],
   "source": [
    "# Н0 - There is no difference in 14 day retention\n",
    "# Н1 - There is difference in 14 day retention\n",
    "\n",
    "check_for('retention_14d', 'source')"
   ]
  },
  {
   "cell_type": "code",
   "execution_count": 42,
   "metadata": {},
   "outputs": [
    {
     "name": "stdout",
     "output_type": "stream",
     "text": [
      "p-value is:  0.8244316027993777 the difference if NOT significant\n"
     ]
    }
   ],
   "source": [
    "# Н0 - There is NO difference between Yandex and Google in conversion\n",
    "# Н1 - There is difference between Yandex and Google in conversion\n",
    "sample_1 = profiles.query('source == \"yandex\"')\n",
    "sample_2 = profiles.query('source == \"google\"')\n",
    "\n",
    "share1 = sum(sample_1['target_action']) \n",
    "share2 = sum(sample_2['target_action']) \n",
    "z_test(share1, share2, sample_1.shape[0], sample_2.shape[0])\n"
   ]
  },
  {
   "cell_type": "markdown",
   "metadata": {},
   "source": [
    "## Step 5. Segmentation\n",
    "\n",
    "At first we need to define what columns will go to the segmentation"
   ]
  },
  {
   "cell_type": "code",
   "execution_count": 43,
   "metadata": {},
   "outputs": [
    {
     "data": {
      "text/html": [
       "<div>\n",
       "<style scoped>\n",
       "    .dataframe tbody tr th:only-of-type {\n",
       "        vertical-align: middle;\n",
       "    }\n",
       "\n",
       "    .dataframe tbody tr th {\n",
       "        vertical-align: top;\n",
       "    }\n",
       "\n",
       "    .dataframe thead th {\n",
       "        text-align: right;\n",
       "    }\n",
       "</style>\n",
       "<table border=\"1\" class=\"dataframe\">\n",
       "  <thead>\n",
       "    <tr style=\"text-align: right;\">\n",
       "      <th></th>\n",
       "      <th>ta_count</th>\n",
       "      <th>session_cnt</th>\n",
       "      <th>duration</th>\n",
       "      <th>avg_duration</th>\n",
       "      <th>total_event</th>\n",
       "      <th>source_google</th>\n",
       "      <th>source_other</th>\n",
       "      <th>source_yandex</th>\n",
       "    </tr>\n",
       "  </thead>\n",
       "  <tbody>\n",
       "    <tr>\n",
       "      <th>0</th>\n",
       "      <td>0</td>\n",
       "      <td>7.0</td>\n",
       "      <td>2025.0</td>\n",
       "      <td>289.285714</td>\n",
       "      <td>35.0</td>\n",
       "      <td>0</td>\n",
       "      <td>1</td>\n",
       "      <td>0</td>\n",
       "    </tr>\n",
       "    <tr>\n",
       "      <th>1</th>\n",
       "      <td>11</td>\n",
       "      <td>19.0</td>\n",
       "      <td>3234.0</td>\n",
       "      <td>215.600000</td>\n",
       "      <td>65.0</td>\n",
       "      <td>0</td>\n",
       "      <td>0</td>\n",
       "      <td>1</td>\n",
       "    </tr>\n",
       "    <tr>\n",
       "      <th>2</th>\n",
       "      <td>0</td>\n",
       "      <td>4.0</td>\n",
       "      <td>512.0</td>\n",
       "      <td>170.666667</td>\n",
       "      <td>9.0</td>\n",
       "      <td>0</td>\n",
       "      <td>0</td>\n",
       "      <td>1</td>\n",
       "    </tr>\n",
       "    <tr>\n",
       "      <th>3</th>\n",
       "      <td>0</td>\n",
       "      <td>12.0</td>\n",
       "      <td>670.0</td>\n",
       "      <td>95.714286</td>\n",
       "      <td>25.0</td>\n",
       "      <td>1</td>\n",
       "      <td>0</td>\n",
       "      <td>0</td>\n",
       "    </tr>\n",
       "    <tr>\n",
       "      <th>4</th>\n",
       "      <td>3</td>\n",
       "      <td>3.0</td>\n",
       "      <td>173.0</td>\n",
       "      <td>57.666667</td>\n",
       "      <td>7.0</td>\n",
       "      <td>0</td>\n",
       "      <td>0</td>\n",
       "      <td>1</td>\n",
       "    </tr>\n",
       "  </tbody>\n",
       "</table>\n",
       "</div>"
      ],
      "text/plain": [
       "   ta_count  session_cnt  duration  avg_duration  total_event  source_google  \\\n",
       "0         0          7.0    2025.0    289.285714         35.0              0   \n",
       "1        11         19.0    3234.0    215.600000         65.0              0   \n",
       "2         0          4.0     512.0    170.666667          9.0              0   \n",
       "3         0         12.0     670.0     95.714286         25.0              1   \n",
       "4         3          3.0     173.0     57.666667          7.0              0   \n",
       "\n",
       "   source_other  source_yandex  \n",
       "0             1              0  \n",
       "1             0              1  \n",
       "2             0              1  \n",
       "3             0              0  \n",
       "4             0              1  "
      ]
     },
     "execution_count": 43,
     "metadata": {},
     "output_type": "execute_result"
    }
   ],
   "source": [
    "df_segmentation = profiles[['source', 'ta_count', 'session_cnt', 'duration', 'avg_duration', 'total_event']]\n",
    "df_segmentation = pd.get_dummies(df_segmentation, columns=['source'])\n",
    "df_segmentation.head()"
   ]
  },
  {
   "cell_type": "code",
   "execution_count": 44,
   "metadata": {},
   "outputs": [
    {
     "data": {
      "image/png": "[encoded data removed]",
      "text/plain": [
       "<Figure size 720x720 with 2 Axes>"
      ]
     },
     "metadata": {
      "needs_background": "light"
     },
     "output_type": "display_data"
    }
   ],
   "source": [
    "cm = df_segmentation.corr() \n",
    "\n",
    "plt.figure(figsize=(10,10))\n",
    "sns.heatmap(cm, annot=True, square=True, linewidths=1)\n",
    "ax.set_ylim(\n",
    "    7, 0\n",
    ")  \n",
    "plt.show()"
   ]
  },
  {
   "cell_type": "markdown",
   "metadata": {},
   "source": [
    "Total event correlates a lot with general duration in the application. We need to remove one column\n",
    "And to define proper number of segments"
   ]
  },
  {
   "cell_type": "code",
   "execution_count": 45,
   "metadata": {},
   "outputs": [],
   "source": [
    "\n",
    "df_segmentation = df_segmentation.drop(columns=['total_event'])\n"
   ]
  },
  {
   "cell_type": "code",
   "execution_count": 46,
   "metadata": {},
   "outputs": [
    {
     "data": {
      "image/png": "[encoded data removed]",
      "text/plain": [
       "<Figure size 1080x720 with 1 Axes>"
      ]
     },
     "metadata": {
      "needs_background": "light"
     },
     "output_type": "display_data"
    }
   ],
   "source": [
    "scaler = StandardScaler()\n",
    "scaler.fit(df_segmentation)\n",
    "\n",
    "X_sc = scaler.fit_transform(df_segmentation)\n",
    "linked = linkage(X_sc, method = 'ward') \n",
    "plt.figure(figsize=(15, 10))  \n",
    "dendrogram(linked, orientation='top')\n",
    "plt.title('Hierarchy classification of the application users')\n",
    "plt.show() "
   ]
  },
  {
   "cell_type": "markdown",
   "metadata": {},
   "source": [
    "Lets leave 4 segments for a while"
   ]
  },
  {
   "cell_type": "code",
   "execution_count": 47,
   "metadata": {},
   "outputs": [],
   "source": [
    "\n",
    "km = KMeans(n_clusters=4, random_state=0)\n",
    "labels = km.fit_predict(X_sc)\n",
    "\n",
    "df_segmentation['cluster_km'] = labels\n",
    "df_segmentation['target_action'] = profiles['target_action']\n",
    "df_segmentation['retention_7d'] = profiles['retention_7d']\n",
    "df_segmentation['retention_14d'] = profiles['retention_14d']\n",
    " "
   ]
  },
  {
   "cell_type": "code",
   "execution_count": 48,
   "metadata": {},
   "outputs": [
    {
     "data": {
      "text/html": [
       "<div>\n",
       "<style scoped>\n",
       "    .dataframe tbody tr th:only-of-type {\n",
       "        vertical-align: middle;\n",
       "    }\n",
       "\n",
       "    .dataframe tbody tr th {\n",
       "        vertical-align: top;\n",
       "    }\n",
       "\n",
       "    .dataframe thead th {\n",
       "        text-align: right;\n",
       "    }\n",
       "</style>\n",
       "<table border=\"1\" class=\"dataframe\">\n",
       "  <thead>\n",
       "    <tr style=\"text-align: right;\">\n",
       "      <th></th>\n",
       "      <th>ta_count</th>\n",
       "      <th>session_cnt</th>\n",
       "      <th>duration</th>\n",
       "      <th>avg_duration</th>\n",
       "      <th>source_google</th>\n",
       "      <th>source_other</th>\n",
       "      <th>source_yandex</th>\n",
       "      <th>cluster_km</th>\n",
       "      <th>target_action</th>\n",
       "      <th>retention_7d</th>\n",
       "      <th>retention_14d</th>\n",
       "    </tr>\n",
       "  </thead>\n",
       "  <tbody>\n",
       "    <tr>\n",
       "      <th>0</th>\n",
       "      <td>0</td>\n",
       "      <td>7.0</td>\n",
       "      <td>2025.0</td>\n",
       "      <td>289.285714</td>\n",
       "      <td>0</td>\n",
       "      <td>1</td>\n",
       "      <td>0</td>\n",
       "      <td>0</td>\n",
       "      <td>False</td>\n",
       "      <td>True</td>\n",
       "      <td>True</td>\n",
       "    </tr>\n",
       "    <tr>\n",
       "      <th>1</th>\n",
       "      <td>11</td>\n",
       "      <td>19.0</td>\n",
       "      <td>3234.0</td>\n",
       "      <td>215.600000</td>\n",
       "      <td>0</td>\n",
       "      <td>0</td>\n",
       "      <td>1</td>\n",
       "      <td>1</td>\n",
       "      <td>True</td>\n",
       "      <td>True</td>\n",
       "      <td>True</td>\n",
       "    </tr>\n",
       "    <tr>\n",
       "      <th>2</th>\n",
       "      <td>0</td>\n",
       "      <td>4.0</td>\n",
       "      <td>512.0</td>\n",
       "      <td>170.666667</td>\n",
       "      <td>0</td>\n",
       "      <td>0</td>\n",
       "      <td>1</td>\n",
       "      <td>1</td>\n",
       "      <td>False</td>\n",
       "      <td>False</td>\n",
       "      <td>False</td>\n",
       "    </tr>\n",
       "    <tr>\n",
       "      <th>3</th>\n",
       "      <td>0</td>\n",
       "      <td>12.0</td>\n",
       "      <td>670.0</td>\n",
       "      <td>95.714286</td>\n",
       "      <td>1</td>\n",
       "      <td>0</td>\n",
       "      <td>0</td>\n",
       "      <td>2</td>\n",
       "      <td>False</td>\n",
       "      <td>True</td>\n",
       "      <td>False</td>\n",
       "    </tr>\n",
       "    <tr>\n",
       "      <th>4</th>\n",
       "      <td>3</td>\n",
       "      <td>3.0</td>\n",
       "      <td>173.0</td>\n",
       "      <td>57.666667</td>\n",
       "      <td>0</td>\n",
       "      <td>0</td>\n",
       "      <td>1</td>\n",
       "      <td>1</td>\n",
       "      <td>True</td>\n",
       "      <td>False</td>\n",
       "      <td>False</td>\n",
       "    </tr>\n",
       "  </tbody>\n",
       "</table>\n",
       "</div>"
      ],
      "text/plain": [
       "   ta_count  session_cnt  duration  avg_duration  source_google  source_other  \\\n",
       "0         0          7.0    2025.0    289.285714              0             1   \n",
       "1        11         19.0    3234.0    215.600000              0             0   \n",
       "2         0          4.0     512.0    170.666667              0             0   \n",
       "3         0         12.0     670.0     95.714286              1             0   \n",
       "4         3          3.0     173.0     57.666667              0             0   \n",
       "\n",
       "   source_yandex  cluster_km  target_action  retention_7d  retention_14d  \n",
       "0              0           0          False          True           True  \n",
       "1              1           1           True          True           True  \n",
       "2              1           1          False         False          False  \n",
       "3              0           2          False          True          False  \n",
       "4              1           1           True         False          False  "
      ]
     },
     "execution_count": 48,
     "metadata": {},
     "output_type": "execute_result"
    }
   ],
   "source": [
    "df_segmentation.head()"
   ]
  },
  {
   "cell_type": "code",
   "execution_count": 49,
   "metadata": {},
   "outputs": [
    {
     "data": {
      "text/plain": [
       "1    0.447939\n",
       "0    0.285115\n",
       "2    0.260657\n",
       "3    0.006289\n",
       "Name: cluster_km, dtype: float64"
      ]
     },
     "execution_count": 49,
     "metadata": {},
     "output_type": "execute_result"
    }
   ],
   "source": [
    "df_segmentation.cluster_km.value_counts(normalize=True)"
   ]
  },
  {
   "cell_type": "markdown",
   "metadata": {},
   "source": [
    "No we see that one segment has less than 1% of the users. Let's focus on 3 segments"
   ]
  },
  {
   "cell_type": "code",
   "execution_count": 50,
   "metadata": {},
   "outputs": [],
   "source": [
    "\n",
    "km = KMeans(n_clusters=3, random_state=0)\n",
    "labels = km.fit_predict(X_sc)\n",
    "\n",
    "df_segmentation['cluster_km'] = labels"
   ]
  },
  {
   "cell_type": "code",
   "execution_count": 51,
   "metadata": {
    "scrolled": true
   },
   "outputs": [
    {
     "data": {
      "text/html": [
       "<div>\n",
       "<style scoped>\n",
       "    .dataframe tbody tr th:only-of-type {\n",
       "        vertical-align: middle;\n",
       "    }\n",
       "\n",
       "    .dataframe tbody tr th {\n",
       "        vertical-align: top;\n",
       "    }\n",
       "\n",
       "    .dataframe thead th {\n",
       "        text-align: right;\n",
       "    }\n",
       "</style>\n",
       "<table border=\"1\" class=\"dataframe\">\n",
       "  <thead>\n",
       "    <tr style=\"text-align: right;\">\n",
       "      <th></th>\n",
       "      <th>cluster_km</th>\n",
       "    </tr>\n",
       "    <tr>\n",
       "      <th>cluster_km</th>\n",
       "      <th></th>\n",
       "    </tr>\n",
       "  </thead>\n",
       "  <tbody>\n",
       "    <tr>\n",
       "      <th>0</th>\n",
       "      <td>1230</td>\n",
       "    </tr>\n",
       "    <tr>\n",
       "      <th>1</th>\n",
       "      <td>1934</td>\n",
       "    </tr>\n",
       "    <tr>\n",
       "      <th>2</th>\n",
       "      <td>1129</td>\n",
       "    </tr>\n",
       "  </tbody>\n",
       "</table>\n",
       "</div>"
      ],
      "text/plain": [
       "            cluster_km\n",
       "cluster_km            \n",
       "0                 1230\n",
       "1                 1934\n",
       "2                 1129"
      ]
     },
     "execution_count": 51,
     "metadata": {},
     "output_type": "execute_result"
    }
   ],
   "source": [
    "df_segmentation.groupby('cluster_km').agg({'cluster_km':'count'})"
   ]
  },
  {
   "cell_type": "code",
   "execution_count": 52,
   "metadata": {},
   "outputs": [
    {
     "name": "stdout",
     "output_type": "stream",
     "text": [
      "ta_count\n",
      "            ta_count\n",
      "cluster_km          \n",
      "0           0.856911\n",
      "1           1.052223\n",
      "2           1.275465\n"
     ]
    },
    {
     "data": {
      "image/png": "[encoded data removed]",
      "text/plain": [
       "<Figure size 432x288 with 1 Axes>"
      ]
     },
     "metadata": {
      "needs_background": "light"
     },
     "output_type": "display_data"
    },
    {
     "name": "stdout",
     "output_type": "stream",
     "text": [
      "\n",
      "\n",
      "session_cnt\n",
      "            session_cnt\n",
      "cluster_km             \n",
      "0              4.163415\n",
      "1              4.534126\n",
      "2              4.569531\n"
     ]
    },
    {
     "data": {
      "image/png": "[encoded data removed]",
      "text/plain": [
       "<Figure size 432x288 with 1 Axes>"
      ]
     },
     "metadata": {
      "needs_background": "light"
     },
     "output_type": "display_data"
    },
    {
     "name": "stdout",
     "output_type": "stream",
     "text": [
      "\n",
      "\n",
      "duration\n",
      "              duration\n",
      "cluster_km            \n",
      "0           579.727642\n",
      "1           759.491727\n",
      "2           730.006200\n"
     ]
    },
    {
     "data": {
      "image/png": "[encoded data removed]",
      "text/plain": [
       "<Figure size 432x288 with 1 Axes>"
      ]
     },
     "metadata": {
      "needs_background": "light"
     },
     "output_type": "display_data"
    },
    {
     "name": "stdout",
     "output_type": "stream",
     "text": [
      "\n",
      "\n",
      "avg_duration\n",
      "            avg_duration\n",
      "cluster_km              \n",
      "0             199.095206\n",
      "1             245.069916\n",
      "2             238.369642\n"
     ]
    },
    {
     "data": {
      "image/png": "[encoded data removed]",
      "text/plain": [
       "<Figure size 432x288 with 1 Axes>"
      ]
     },
     "metadata": {
      "needs_background": "light"
     },
     "output_type": "display_data"
    },
    {
     "name": "stdout",
     "output_type": "stream",
     "text": [
      "\n",
      "\n",
      "source_google\n",
      "cluster_km          0       1       2\n",
      "source_google                        \n",
      "0              1230.0  1934.0     NaN\n",
      "1                 NaN     NaN  1129.0\n"
     ]
    },
    {
     "data": {
      "image/png": "[encoded data removed]",
      "text/plain": [
       "<Figure size 432x288 with 1 Axes>"
      ]
     },
     "metadata": {
      "needs_background": "light"
     },
     "output_type": "display_data"
    },
    {
     "name": "stdout",
     "output_type": "stream",
     "text": [
      "\n",
      "\n",
      "source_other\n",
      "cluster_km         0       1       2\n",
      "source_other                        \n",
      "0                NaN  1934.0  1129.0\n",
      "1             1230.0     NaN     NaN\n"
     ]
    },
    {
     "data": {
      "image/png": "[encoded data removed]",
      "text/plain": [
       "<Figure size 432x288 with 1 Axes>"
      ]
     },
     "metadata": {
      "needs_background": "light"
     },
     "output_type": "display_data"
    },
    {
     "name": "stdout",
     "output_type": "stream",
     "text": [
      "\n",
      "\n",
      "source_yandex\n",
      "cluster_km          0       1       2\n",
      "source_yandex                        \n",
      "0              1230.0     NaN  1129.0\n",
      "1                 NaN  1934.0     NaN\n"
     ]
    },
    {
     "data": {
      "image/png": "[encoded data removed]",
      "text/plain": [
       "<Figure size 432x288 with 1 Axes>"
      ]
     },
     "metadata": {
      "needs_background": "light"
     },
     "output_type": "display_data"
    },
    {
     "name": "stdout",
     "output_type": "stream",
     "text": [
      "\n",
      "\n"
     ]
    }
   ],
   "source": [
    "for i in df_segmentation.drop(columns=['cluster_km', 'target_action', 'retention_7d', 'retention_14d']).columns:\n",
    "    print(i)\n",
    "    if len(df_segmentation[i].unique()) < 5:\n",
    "        table = df_segmentation.pivot_table(values='session_cnt', index=i, columns='cluster_km', aggfunc='count')\n",
    "        print(table)\n",
    "        ax = sns.barplot(x=df_segmentation.cluster_km, y=df_segmentation[i], hue=df_segmentation[i], estimator=np.count_nonzero)\n",
    "        for container in ax.containers:\n",
    "            ax.bar_label(container)\n",
    "        plt.ylabel('count')\n",
    "        ax.set_xticklabels( ('other', 'yandex', 'google') )\n",
    "        plt.title(i)\n",
    "        plt.show()\n",
    "        print()\n",
    "        print()\n",
    "    else: \n",
    "        table = df_segmentation.groupby('cluster_km').agg({i:'mean'})\n",
    "        print(table)\n",
    "        ax = sns.barplot(data=table, x=table.index, y=i)\n",
    "        for container in ax.containers:\n",
    "            ax.bar_label(container)\n",
    "        plt.title(i)\n",
    "        ax.set_xticklabels( ('other', 'yandex', 'google') )\n",
    "        plt.show()\n",
    "        print()\n",
    "        print()"
   ]
  },
  {
   "cell_type": "code",
   "execution_count": 53,
   "metadata": {},
   "outputs": [
    {
     "data": {
      "text/html": [
       "<div>\n",
       "<style scoped>\n",
       "    .dataframe tbody tr th:only-of-type {\n",
       "        vertical-align: middle;\n",
       "    }\n",
       "\n",
       "    .dataframe tbody tr th {\n",
       "        vertical-align: top;\n",
       "    }\n",
       "\n",
       "    .dataframe thead th {\n",
       "        text-align: right;\n",
       "    }\n",
       "</style>\n",
       "<table border=\"1\" class=\"dataframe\">\n",
       "  <thead>\n",
       "    <tr style=\"text-align: right;\">\n",
       "      <th></th>\n",
       "      <th>cluster_km</th>\n",
       "      <th>target_action</th>\n",
       "      <th>retention_7d</th>\n",
       "      <th>retention_14d</th>\n",
       "      <th>session_cnt</th>\n",
       "    </tr>\n",
       "  </thead>\n",
       "  <tbody>\n",
       "    <tr>\n",
       "      <th>0</th>\n",
       "      <td>0</td>\n",
       "      <td>228</td>\n",
       "      <td>193</td>\n",
       "      <td>89</td>\n",
       "      <td>1230</td>\n",
       "    </tr>\n",
       "    <tr>\n",
       "      <th>1</th>\n",
       "      <td>1</td>\n",
       "      <td>478</td>\n",
       "      <td>283</td>\n",
       "      <td>114</td>\n",
       "      <td>1934</td>\n",
       "    </tr>\n",
       "    <tr>\n",
       "      <th>2</th>\n",
       "      <td>2</td>\n",
       "      <td>275</td>\n",
       "      <td>155</td>\n",
       "      <td>60</td>\n",
       "      <td>1129</td>\n",
       "    </tr>\n",
       "  </tbody>\n",
       "</table>\n",
       "</div>"
      ],
      "text/plain": [
       "   cluster_km  target_action  retention_7d  retention_14d  session_cnt\n",
       "0           0            228           193             89         1230\n",
       "1           1            478           283            114         1934\n",
       "2           2            275           155             60         1129"
      ]
     },
     "execution_count": 53,
     "metadata": {},
     "output_type": "execute_result"
    }
   ],
   "source": [
    "# Analysing conversion and retention\n",
    "\n",
    "segments_stat = df_segmentation.groupby('cluster_km').agg({'target_action':'sum', \n",
    "                                                           'retention_7d':'sum', \n",
    "                                                           'retention_14d':'sum',\n",
    "                                                           'session_cnt':'count'}).reset_index()\n",
    "segments_stat"
   ]
  },
  {
   "cell_type": "code",
   "execution_count": 54,
   "metadata": {},
   "outputs": [
    {
     "data": {
      "text/html": [
       "<div>\n",
       "<style scoped>\n",
       "    .dataframe tbody tr th:only-of-type {\n",
       "        vertical-align: middle;\n",
       "    }\n",
       "\n",
       "    .dataframe tbody tr th {\n",
       "        vertical-align: top;\n",
       "    }\n",
       "\n",
       "    .dataframe thead th {\n",
       "        text-align: right;\n",
       "    }\n",
       "</style>\n",
       "<table border=\"1\" class=\"dataframe\">\n",
       "  <thead>\n",
       "    <tr style=\"text-align: right;\">\n",
       "      <th></th>\n",
       "      <th>cluster_km</th>\n",
       "      <th>target_action</th>\n",
       "      <th>retention_7d</th>\n",
       "      <th>retention_14d</th>\n",
       "      <th>session_cnt</th>\n",
       "    </tr>\n",
       "  </thead>\n",
       "  <tbody>\n",
       "    <tr>\n",
       "      <th>0</th>\n",
       "      <td>0</td>\n",
       "      <td>0.185366</td>\n",
       "      <td>0.156911</td>\n",
       "      <td>0.072358</td>\n",
       "      <td>1230</td>\n",
       "    </tr>\n",
       "    <tr>\n",
       "      <th>1</th>\n",
       "      <td>1</td>\n",
       "      <td>0.247156</td>\n",
       "      <td>0.146329</td>\n",
       "      <td>0.058945</td>\n",
       "      <td>1934</td>\n",
       "    </tr>\n",
       "    <tr>\n",
       "      <th>2</th>\n",
       "      <td>2</td>\n",
       "      <td>0.243578</td>\n",
       "      <td>0.137290</td>\n",
       "      <td>0.053144</td>\n",
       "      <td>1129</td>\n",
       "    </tr>\n",
       "  </tbody>\n",
       "</table>\n",
       "</div>"
      ],
      "text/plain": [
       "   cluster_km  target_action  retention_7d  retention_14d  session_cnt\n",
       "0           0       0.185366      0.156911       0.072358         1230\n",
       "1           1       0.247156      0.146329       0.058945         1934\n",
       "2           2       0.243578      0.137290       0.053144         1129"
      ]
     },
     "execution_count": 54,
     "metadata": {},
     "output_type": "execute_result"
    }
   ],
   "source": [
    "segments_stat['target_action'] = (segments_stat.target_action / segments_stat.session_cnt)#.apply(\"{0:.2f}\".format)\n",
    "segments_stat['retention_7d'] = (segments_stat.retention_7d / segments_stat.session_cnt)#.apply(\"{0:.2f}\".format)\n",
    "segments_stat['retention_14d'] = (segments_stat.retention_14d / segments_stat.session_cnt)#.apply(\"{0:.2f}\".format)\n",
    "segments_stat"
   ]
  },
  {
   "cell_type": "code",
   "execution_count": 55,
   "metadata": {},
   "outputs": [
    {
     "data": {
      "image/png": "[encoded data removed]",
      "text/plain": [
       "<Figure size 720x360 with 1 Axes>"
      ]
     },
     "metadata": {
      "needs_background": "light"
     },
     "output_type": "display_data"
    }
   ],
   "source": [
    "\n",
    "\n",
    "x = np.arange(len(segments_stat.cluster_km))  # the label locations\n",
    "width = 0.5  # the width of the bars\n",
    "\n",
    "\n",
    "fig, ax = plt.subplots()\n",
    "fig.set_figheight(5)\n",
    "fig.set_figwidth(10)\n",
    "\n",
    "rects1 = ax.bar(x - width/3, segments_stat.target_action, width, label='Conversion')\n",
    "rects2 = ax.bar(x , segments_stat.retention_7d, width, label='Retention_7d')\n",
    "rects3 = ax.bar(x + width/3, segments_stat.retention_14d, width, label='Retention_14d')\n",
    "\n",
    "# Add some text for labels, title and custom x-axis tick labels, etc.\n",
    "ax.set_ylabel('KPI')\n",
    "ax.set_title('KPIs by cluster')\n",
    "ax.set_xticks(x)\n",
    "ax.set_xticklabels( ('other', 'yandex', 'google') )\n",
    "ax.set_ylim(0, 0.3)\n",
    "\n",
    "ax.legend()\n",
    "\n",
    "ax.bar_label(rects1, padding=3)\n",
    "ax.bar_label(rects2, padding=3)\n",
    "ax.bar_label(rects3, padding=3)\n",
    "\n",
    "fig.tight_layout()\n",
    "\n",
    "plt.show()\n"
   ]
  },
  {
   "cell_type": "code",
   "execution_count": 56,
   "metadata": {},
   "outputs": [],
   "source": [
    "# Н0 - average number of target action between users from yandex and google is the same \n",
    "# Н1 - average number of target action between users from yandex and google is NOT the same \n",
    "\n",
    "def average_test(dataA, dataB):\n",
    "# сначала проверим обе выборки с помощью критерия Шапиро-Уилка\n",
    "    alpha = .05 \n",
    "\n",
    "    p_value_1 = st.shapiro(dataA)[1]\n",
    "    p_value_2 = st.shapiro(dataB)[1]\n",
    "    \n",
    "    if p_value_1 < alpha and p_value_2 < alpha:\n",
    "        result = st.ttest_ind(dataA, dataB)\n",
    "        print('Distribution is normal. ttest p-value:', result.pvalue)\n",
    "        if result.pvalue < alpha:\n",
    "            print('Difference if significant')\n",
    "        else: \n",
    "            print('Difference if NOT significant')\n",
    "    else:\n",
    "        result = st.mannwhitneyu(dataA, dataB)\n",
    "        print('Distribution is NOT normal. Utest p-value:', result.pvalue)\n",
    "        if result.pvalue < alpha:\n",
    "            print('Difference if significant')\n",
    "        else: \n",
    "            print('Difference if NOT significant')\n",
    "\n",
    "\n"
   ]
  },
  {
   "cell_type": "code",
   "execution_count": 57,
   "metadata": {},
   "outputs": [
    {
     "name": "stdout",
     "output_type": "stream",
     "text": [
      "Distribution is normal. ttest p-value: 0.25968114496404565\n",
      "Difference if NOT significant\n"
     ]
    }
   ],
   "source": [
    "dataA = df_segmentation.query('cluster_km == 1')\n",
    "dataB = df_segmentation.query('cluster_km == 2')\n",
    "\n",
    "average_test(dataA.ta_count, dataB.ta_count)"
   ]
  },
  {
   "cell_type": "markdown",
   "metadata": {
    "tags": []
   },
   "source": [
    "Conclusions:\n",
    "Our 3  segments were divided by traffic sources:\n",
    "- Segment 0: Came from the source other, rarely goes to the target action in principle, generates the least events and spends less time in the application.\n",
    "- Segment 1: Came from Yandex - on second place in terms of the number of targeted actions and on first place in terms of the average duration of sessions.\n",
    "- Segment 2: came from Google - on first place in terms of the number of targeted actions. However, the gap between it and segment 1 is not significant.\n",
    "\n",
    "- Of all three segments, those who came from Google and Yandex show the highest conversion to the target action\n"
   ]
  },
  {
   "cell_type": "markdown",
   "metadata": {},
   "source": [
    "## Conclusions:\n",
    "\n",
    "- 3/4 of the described cases lie bellow 185 seconds. It's +- 3 minutes. As part of the study, this boundary is set as the session boundary\n",
    "- Judging by the heat map, in Google, the highest conversion is observed for cohorts that came on the 10th and 25th, when many companies pay salaries. For other sources, the cohorts are more homogeneous.\n",
    "- The same goes for the number of events in the application\n",
    "- Traffic source 'other' differs from google and yandex in terms of conversion\n",
    "- The hypothesis about the difference in conversion between Google and Yandex as traffic sources was not confirmed\n",
    "- The traffic source does not affect the retention at all\n",
    "- Segmentation also separated users based on traffic source.\n",
    "- Conversion among those who came from other traffic sources is different from the conversion among those who came from Yandex and Google.\n",
    "- Those who came from Google demonstrate high performance in the target action, but the gap between them and Yandex is insignificant\n"
   ]
  }
 ],
 "metadata": {
  "ExecuteTimeLog": [
   {
    "duration": 1879,
    "start_time": "2022-09-14T23:05:47.869Z"
   },
   {
    "duration": 3191,
    "start_time": "2022-09-14T23:05:49.750Z"
   },
   {
    "duration": 379,
    "start_time": "2022-09-14T23:05:52.942Z"
   },
   {
    "duration": 11,
    "start_time": "2022-09-14T23:05:53.323Z"
   },
   {
    "duration": 16,
    "start_time": "2022-09-14T23:05:53.335Z"
   },
   {
    "duration": 10,
    "start_time": "2022-09-14T23:05:53.352Z"
   },
   {
    "duration": 4,
    "start_time": "2022-09-14T23:05:53.364Z"
   },
   {
    "duration": 4,
    "start_time": "2022-09-14T23:05:53.369Z"
   },
   {
    "duration": 32,
    "start_time": "2022-09-14T23:05:53.375Z"
   },
   {
    "duration": 17,
    "start_time": "2022-09-14T23:05:53.409Z"
   },
   {
    "duration": 26,
    "start_time": "2022-09-14T23:05:53.427Z"
   },
   {
    "duration": 6,
    "start_time": "2022-09-14T23:05:53.454Z"
   },
   {
    "duration": 7,
    "start_time": "2022-09-14T23:05:53.461Z"
   },
   {
    "duration": 284,
    "start_time": "2022-09-14T23:05:53.469Z"
   },
   {
    "duration": 11,
    "start_time": "2022-09-14T23:05:53.754Z"
   },
   {
    "duration": 39,
    "start_time": "2022-09-14T23:05:53.766Z"
   },
   {
    "duration": 56,
    "start_time": "2022-09-14T23:05:53.807Z"
   },
   {
    "duration": 13,
    "start_time": "2022-09-14T23:05:53.865Z"
   },
   {
    "duration": 39,
    "start_time": "2022-09-14T23:05:53.880Z"
   },
   {
    "duration": 18,
    "start_time": "2022-09-14T23:05:53.921Z"
   },
   {
    "duration": 69,
    "start_time": "2022-09-14T23:05:53.941Z"
   },
   {
    "duration": 39399,
    "start_time": "2022-09-14T23:05:54.012Z"
   },
   {
    "duration": 5,
    "start_time": "2022-09-14T23:06:33.413Z"
   },
   {
    "duration": 13,
    "start_time": "2022-09-14T23:06:33.419Z"
   },
   {
    "duration": 14,
    "start_time": "2022-09-14T23:06:33.433Z"
   },
   {
    "duration": 606,
    "start_time": "2022-09-14T23:06:33.448Z"
   },
   {
    "duration": 10,
    "start_time": "2022-09-14T23:06:34.055Z"
   },
   {
    "duration": 160,
    "start_time": "2022-09-14T23:06:34.069Z"
   },
   {
    "duration": 37887,
    "start_time": "2022-09-14T23:06:34.231Z"
   },
   {
    "duration": 35,
    "start_time": "2022-09-14T23:07:12.119Z"
   },
   {
    "duration": 57,
    "start_time": "2022-09-14T23:07:12.155Z"
   },
   {
    "duration": 26,
    "start_time": "2022-09-14T23:07:12.213Z"
   },
   {
    "duration": 21,
    "start_time": "2022-09-14T23:07:12.241Z"
   },
   {
    "duration": 11,
    "start_time": "2022-09-14T23:07:12.264Z"
   },
   {
    "duration": 32,
    "start_time": "2022-09-14T23:07:12.276Z"
   },
   {
    "duration": 20,
    "start_time": "2022-09-14T23:07:12.310Z"
   },
   {
    "duration": 17,
    "start_time": "2022-09-14T23:07:12.332Z"
   },
   {
    "duration": 4,
    "start_time": "2022-09-14T23:07:12.351Z"
   },
   {
    "duration": 9,
    "start_time": "2022-09-14T23:07:12.356Z"
   },
   {
    "duration": 51,
    "start_time": "2022-09-14T23:07:12.367Z"
   },
   {
    "duration": 24,
    "start_time": "2022-09-14T23:07:12.420Z"
   },
   {
    "duration": 24,
    "start_time": "2022-09-14T23:07:12.445Z"
   },
   {
    "duration": 37,
    "start_time": "2022-09-14T23:07:12.471Z"
   },
   {
    "duration": 681,
    "start_time": "2022-09-14T23:07:12.509Z"
   },
   {
    "duration": 4,
    "start_time": "2022-09-14T23:07:13.192Z"
   },
   {
    "duration": 107432,
    "start_time": "2022-09-14T23:07:13.205Z"
   },
   {
    "duration": 674,
    "start_time": "2022-09-14T23:09:00.639Z"
   },
   {
    "duration": 95,
    "start_time": "2022-09-14T23:09:01.315Z"
   },
   {
    "duration": 11,
    "start_time": "2022-09-14T23:09:01.411Z"
   },
   {
    "duration": 490,
    "start_time": "2022-09-14T23:09:01.424Z"
   },
   {
    "duration": 327,
    "start_time": "2022-09-14T23:09:02.005Z"
   },
   {
    "duration": 9,
    "start_time": "2022-09-14T23:14:36.034Z"
   },
   {
    "duration": 26,
    "start_time": "2022-09-14T23:14:52.178Z"
   },
   {
    "duration": 6,
    "start_time": "2022-09-14T23:15:03.673Z"
   },
   {
    "duration": 9,
    "start_time": "2022-09-14T23:15:11.022Z"
   },
   {
    "duration": 4,
    "start_time": "2022-09-14T23:17:15.980Z"
   },
   {
    "duration": 21,
    "start_time": "2022-09-14T23:20:50.714Z"
   },
   {
    "duration": 5,
    "start_time": "2022-09-14T23:21:02.173Z"
   },
   {
    "duration": 7,
    "start_time": "2022-09-14T23:21:05.839Z"
   },
   {
    "duration": 5,
    "start_time": "2022-09-14T23:33:50.302Z"
   },
   {
    "duration": 10,
    "start_time": "2022-09-14T23:35:12.256Z"
   },
   {
    "duration": 3133,
    "start_time": "2022-09-16T17:57:35.262Z"
   },
   {
    "duration": 562,
    "start_time": "2022-09-16T17:57:38.397Z"
   },
   {
    "duration": 19,
    "start_time": "2022-09-16T17:57:38.963Z"
   },
   {
    "duration": 19,
    "start_time": "2022-09-16T17:57:38.984Z"
   },
   {
    "duration": 23,
    "start_time": "2022-09-16T17:57:39.005Z"
   },
   {
    "duration": 49,
    "start_time": "2022-09-16T17:57:39.030Z"
   },
   {
    "duration": 13,
    "start_time": "2022-09-16T17:57:39.083Z"
   },
   {
    "duration": 14,
    "start_time": "2022-09-16T17:57:39.099Z"
   },
   {
    "duration": 67,
    "start_time": "2022-09-16T17:57:39.115Z"
   },
   {
    "duration": 42,
    "start_time": "2022-09-16T17:57:39.186Z"
   },
   {
    "duration": 38,
    "start_time": "2022-09-16T17:57:39.230Z"
   },
   {
    "duration": 18,
    "start_time": "2022-09-16T17:57:39.271Z"
   },
   {
    "duration": 408,
    "start_time": "2022-09-16T17:57:39.292Z"
   },
   {
    "duration": 42,
    "start_time": "2022-09-16T17:57:39.702Z"
   },
   {
    "duration": 51,
    "start_time": "2022-09-16T17:57:39.748Z"
   },
   {
    "duration": 95,
    "start_time": "2022-09-16T17:57:39.802Z"
   },
   {
    "duration": 37,
    "start_time": "2022-09-16T17:57:39.899Z"
   },
   {
    "duration": 51,
    "start_time": "2022-09-16T17:57:39.941Z"
   },
   {
    "duration": 19,
    "start_time": "2022-09-16T17:57:39.994Z"
   },
   {
    "duration": 95,
    "start_time": "2022-09-16T17:57:40.015Z"
   },
   {
    "duration": 53789,
    "start_time": "2022-09-16T17:57:40.112Z"
   },
   {
    "duration": 5,
    "start_time": "2022-09-16T17:58:33.903Z"
   },
   {
    "duration": 86,
    "start_time": "2022-09-16T17:58:33.910Z"
   },
   {
    "duration": 35,
    "start_time": "2022-09-16T17:58:33.998Z"
   },
   {
    "duration": 921,
    "start_time": "2022-09-16T17:58:34.035Z"
   },
   {
    "duration": 17,
    "start_time": "2022-09-16T17:58:34.959Z"
   },
   {
    "duration": 387,
    "start_time": "2022-09-16T17:58:34.982Z"
   },
   {
    "duration": 49700,
    "start_time": "2022-09-16T17:58:35.379Z"
   },
   {
    "duration": 56,
    "start_time": "2022-09-16T17:59:25.081Z"
   },
   {
    "duration": 58,
    "start_time": "2022-09-16T17:59:25.139Z"
   },
   {
    "duration": 56,
    "start_time": "2022-09-16T17:59:25.199Z"
   },
   {
    "duration": 27,
    "start_time": "2022-09-16T17:59:25.260Z"
   },
   {
    "duration": 21,
    "start_time": "2022-09-16T17:59:25.291Z"
   },
   {
    "duration": 9,
    "start_time": "2022-09-16T17:59:25.318Z"
   },
   {
    "duration": 64,
    "start_time": "2022-09-16T17:59:25.329Z"
   },
   {
    "duration": 39,
    "start_time": "2022-09-16T17:59:25.395Z"
   },
   {
    "duration": 92,
    "start_time": "2022-09-16T17:59:25.436Z"
   },
   {
    "duration": 1313,
    "start_time": "2022-09-16T17:59:25.531Z"
   },
   {
    "duration": 690,
    "start_time": "2022-09-16T17:59:26.852Z"
   },
   {
    "duration": 21,
    "start_time": "2022-09-16T17:59:27.549Z"
   },
   {
    "duration": 96,
    "start_time": "2022-09-16T17:59:27.578Z"
   },
   {
    "duration": 61,
    "start_time": "2022-09-16T17:59:27.677Z"
   },
   {
    "duration": 279,
    "start_time": "2022-09-16T17:59:27.740Z"
   },
   {
    "duration": 0,
    "start_time": "2022-09-16T17:59:28.025Z"
   },
   {
    "duration": 0,
    "start_time": "2022-09-16T17:59:28.026Z"
   },
   {
    "duration": 0,
    "start_time": "2022-09-16T17:59:28.028Z"
   },
   {
    "duration": 0,
    "start_time": "2022-09-16T17:59:28.030Z"
   },
   {
    "duration": 0,
    "start_time": "2022-09-16T17:59:28.031Z"
   },
   {
    "duration": 0,
    "start_time": "2022-09-16T17:59:28.033Z"
   },
   {
    "duration": 0,
    "start_time": "2022-09-16T17:59:28.035Z"
   },
   {
    "duration": 0,
    "start_time": "2022-09-16T17:59:28.037Z"
   },
   {
    "duration": 0,
    "start_time": "2022-09-16T17:59:28.039Z"
   },
   {
    "duration": 0,
    "start_time": "2022-09-16T17:59:28.040Z"
   },
   {
    "duration": 0,
    "start_time": "2022-09-16T17:59:28.042Z"
   },
   {
    "duration": 1,
    "start_time": "2022-09-16T17:59:28.043Z"
   },
   {
    "duration": 0,
    "start_time": "2022-09-16T17:59:28.045Z"
   },
   {
    "duration": 43,
    "start_time": "2022-09-16T17:59:50.244Z"
   },
   {
    "duration": 33,
    "start_time": "2022-09-16T17:59:52.338Z"
   },
   {
    "duration": 2527,
    "start_time": "2022-09-16T17:59:59.087Z"
   },
   {
    "duration": 406,
    "start_time": "2022-09-16T18:00:01.616Z"
   },
   {
    "duration": 20,
    "start_time": "2022-09-16T18:00:02.024Z"
   },
   {
    "duration": 52,
    "start_time": "2022-09-16T18:00:02.049Z"
   },
   {
    "duration": 84,
    "start_time": "2022-09-16T18:00:02.103Z"
   },
   {
    "duration": 58,
    "start_time": "2022-09-16T18:00:02.189Z"
   },
   {
    "duration": 41,
    "start_time": "2022-09-16T18:00:02.254Z"
   },
   {
    "duration": 49,
    "start_time": "2022-09-16T18:00:02.300Z"
   },
   {
    "duration": 128,
    "start_time": "2022-09-16T18:00:02.350Z"
   },
   {
    "duration": 60,
    "start_time": "2022-09-16T18:00:02.481Z"
   },
   {
    "duration": 29,
    "start_time": "2022-09-16T18:00:02.546Z"
   },
   {
    "duration": 12,
    "start_time": "2022-09-16T18:00:02.577Z"
   },
   {
    "duration": 450,
    "start_time": "2022-09-16T18:00:02.590Z"
   },
   {
    "duration": 23,
    "start_time": "2022-09-16T18:00:03.042Z"
   },
   {
    "duration": 28,
    "start_time": "2022-09-16T18:00:03.072Z"
   },
   {
    "duration": 67,
    "start_time": "2022-09-16T18:00:03.102Z"
   },
   {
    "duration": 23,
    "start_time": "2022-09-16T18:00:03.175Z"
   },
   {
    "duration": 41,
    "start_time": "2022-09-16T18:00:03.207Z"
   },
   {
    "duration": 34,
    "start_time": "2022-09-16T18:00:03.250Z"
   },
   {
    "duration": 80,
    "start_time": "2022-09-16T18:00:03.286Z"
   },
   {
    "duration": 50668,
    "start_time": "2022-09-16T18:00:03.368Z"
   },
   {
    "duration": 28,
    "start_time": "2022-09-16T18:00:54.038Z"
   },
   {
    "duration": 14,
    "start_time": "2022-09-16T18:00:54.071Z"
   },
   {
    "duration": 21,
    "start_time": "2022-09-16T18:00:54.087Z"
   },
   {
    "duration": 805,
    "start_time": "2022-09-16T18:00:54.110Z"
   },
   {
    "duration": 10,
    "start_time": "2022-09-16T18:00:54.917Z"
   },
   {
    "duration": 235,
    "start_time": "2022-09-16T18:00:54.929Z"
   },
   {
    "duration": 53160,
    "start_time": "2022-09-16T18:00:55.169Z"
   },
   {
    "duration": 72,
    "start_time": "2022-09-16T18:01:48.332Z"
   },
   {
    "duration": 175,
    "start_time": "2022-09-16T18:01:48.406Z"
   },
   {
    "duration": 48,
    "start_time": "2022-09-16T18:01:48.584Z"
   },
   {
    "duration": 41,
    "start_time": "2022-09-16T18:01:48.639Z"
   },
   {
    "duration": 30,
    "start_time": "2022-09-16T18:01:48.683Z"
   },
   {
    "duration": 47,
    "start_time": "2022-09-16T18:01:48.716Z"
   },
   {
    "duration": 139,
    "start_time": "2022-09-16T18:01:48.767Z"
   },
   {
    "duration": 36,
    "start_time": "2022-09-16T18:01:48.926Z"
   },
   {
    "duration": 57,
    "start_time": "2022-09-16T18:01:48.967Z"
   },
   {
    "duration": 1403,
    "start_time": "2022-09-16T18:01:49.026Z"
   },
   {
    "duration": 661,
    "start_time": "2022-09-16T18:01:50.434Z"
   },
   {
    "duration": 12,
    "start_time": "2022-09-16T18:01:51.102Z"
   },
   {
    "duration": 54,
    "start_time": "2022-09-16T18:01:51.127Z"
   },
   {
    "duration": 48,
    "start_time": "2022-09-16T18:01:51.183Z"
   },
   {
    "duration": 262,
    "start_time": "2022-09-16T18:01:51.233Z"
   },
   {
    "duration": 0,
    "start_time": "2022-09-16T18:01:51.497Z"
   },
   {
    "duration": 0,
    "start_time": "2022-09-16T18:01:51.498Z"
   },
   {
    "duration": 0,
    "start_time": "2022-09-16T18:01:51.499Z"
   },
   {
    "duration": 0,
    "start_time": "2022-09-16T18:01:51.500Z"
   },
   {
    "duration": 0,
    "start_time": "2022-09-16T18:01:51.501Z"
   },
   {
    "duration": 0,
    "start_time": "2022-09-16T18:01:51.504Z"
   },
   {
    "duration": 0,
    "start_time": "2022-09-16T18:01:51.505Z"
   },
   {
    "duration": 0,
    "start_time": "2022-09-16T18:01:51.506Z"
   },
   {
    "duration": 0,
    "start_time": "2022-09-16T18:01:51.507Z"
   },
   {
    "duration": 0,
    "start_time": "2022-09-16T18:01:51.508Z"
   },
   {
    "duration": 0,
    "start_time": "2022-09-16T18:01:51.509Z"
   },
   {
    "duration": 0,
    "start_time": "2022-09-16T18:01:51.511Z"
   },
   {
    "duration": 0,
    "start_time": "2022-09-16T18:01:51.512Z"
   }
  ],
  "kernelspec": {
   "display_name": "Python 3 (ipykernel)",
   "language": "python",
   "name": "python3"
  },
  "language_info": {
   "codemirror_mode": {
    "name": "ipython",
    "version": 3
   },
   "file_extension": ".py",
   "mimetype": "text/x-python",
   "name": "python",
   "nbconvert_exporter": "python",
   "pygments_lexer": "ipython3",
   "version": "3.8.9"
  },
  "toc": {
   "base_numbering": 1,
   "nav_menu": {},
   "number_sections": true,
   "sideBar": true,
   "skip_h1_title": true,
   "title_cell": "Table of Contents",
   "title_sidebar": "Contents",
   "toc_cell": false,
   "toc_position": {},
   "toc_section_display": true,
   "toc_window_display": true
  },
  "vscode": {
   "interpreter": {
    "hash": "31f2aee4e71d21fbe5cf8b01ff0e069b9275f58929596ceb00d14d90e3e16cd6"
   }
  }
 },
 "nbformat": 4,
 "nbformat_minor": 4
}
