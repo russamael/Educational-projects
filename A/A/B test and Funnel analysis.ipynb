{
 "cells": [
  {
   "cell_type": "markdown",
   "metadata": {},
   "source": [
    "# A/A/B test and Funnel analysis (educational project)\n",
    "\n",
    "\n",
    "Background:\n",
    "The team wants to implement changes into the application. The task is to: \n",
    "- Describe customer journey funnel \n",
    "- Analyse A / A / B test results. \n",
    "\n",
    "\n",
    "File description: \n",
    "- Each record in the file is certain event with following data.\n",
    "\n",
    "- - EventName \n",
    "- - DeviceIDHash\n",
    "- - EventTimestamp \n",
    "- - ExpId (test group)"
   ]
  },
  {
   "cell_type": "code",
   "execution_count": 2,
   "metadata": {},
   "outputs": [],
   "source": [
    "import pandas as pd\n",
    "import numpy as np\n",
    "from scipy import stats as st\n",
    "import numpy as np\n",
    "import math as mth\n",
    "import datetime as dt\n",
    "import matplotlib.pyplot as plt\n",
    "import seaborn as sns \n",
    "import os \n",
    "import plotly.express as px\n",
    "from plotly import graph_objects as go\n",
    "from plotly.subplots import make_subplots\n",
    "import regex as re\n",
    "import requests"
   ]
  },
  {
   "cell_type": "markdown",
   "metadata": {},
   "source": [
    "# Step 1. Data preparation"
   ]
  },
  {
   "cell_type": "code",
   "execution_count": 3,
   "metadata": {},
   "outputs": [],
   "source": [
    "if os.path.isfile('logs_exp.csv'):\n",
    "    df = pd.read_csv('logs_exp.csv', sep='\\t')\n",
    "else:\n",
    "    df = pd.read_csv('/datasets/logs_exp.csv', sep='\\t')"
   ]
  },
  {
   "cell_type": "code",
   "execution_count": 4,
   "metadata": {},
   "outputs": [
    {
     "name": "stdout",
     "output_type": "stream",
     "text": [
      "<class 'pandas.core.frame.DataFrame'>\n",
      "RangeIndex: 244126 entries, 0 to 244125\n",
      "Data columns (total 4 columns):\n",
      " #   Column          Non-Null Count   Dtype \n",
      "---  ------          --------------   ----- \n",
      " 0   EventName       244126 non-null  object\n",
      " 1   DeviceIDHash    244126 non-null  int64 \n",
      " 2   EventTimestamp  244126 non-null  int64 \n",
      " 3   ExpId           244126 non-null  int64 \n",
      "dtypes: int64(3), object(1)\n",
      "memory usage: 7.5+ MB\n"
     ]
    }
   ],
   "source": [
    "df.info()"
   ]
  },
  {
   "cell_type": "code",
   "execution_count": 5,
   "metadata": {},
   "outputs": [
    {
     "data": {
      "text/html": [
       "<div>\n",
       "<style scoped>\n",
       "    .dataframe tbody tr th:only-of-type {\n",
       "        vertical-align: middle;\n",
       "    }\n",
       "\n",
       "    .dataframe tbody tr th {\n",
       "        vertical-align: top;\n",
       "    }\n",
       "\n",
       "    .dataframe thead th {\n",
       "        text-align: right;\n",
       "    }\n",
       "</style>\n",
       "<table border=\"1\" class=\"dataframe\">\n",
       "  <thead>\n",
       "    <tr style=\"text-align: right;\">\n",
       "      <th></th>\n",
       "      <th>EventName</th>\n",
       "      <th>DeviceIDHash</th>\n",
       "      <th>EventTimestamp</th>\n",
       "      <th>ExpId</th>\n",
       "    </tr>\n",
       "  </thead>\n",
       "  <tbody>\n",
       "    <tr>\n",
       "      <th>0</th>\n",
       "      <td>MainScreenAppear</td>\n",
       "      <td>4575588528974610257</td>\n",
       "      <td>1564029816</td>\n",
       "      <td>246</td>\n",
       "    </tr>\n",
       "    <tr>\n",
       "      <th>1</th>\n",
       "      <td>MainScreenAppear</td>\n",
       "      <td>7416695313311560658</td>\n",
       "      <td>1564053102</td>\n",
       "      <td>246</td>\n",
       "    </tr>\n",
       "    <tr>\n",
       "      <th>2</th>\n",
       "      <td>PaymentScreenSuccessful</td>\n",
       "      <td>3518123091307005509</td>\n",
       "      <td>1564054127</td>\n",
       "      <td>248</td>\n",
       "    </tr>\n",
       "    <tr>\n",
       "      <th>3</th>\n",
       "      <td>CartScreenAppear</td>\n",
       "      <td>3518123091307005509</td>\n",
       "      <td>1564054127</td>\n",
       "      <td>248</td>\n",
       "    </tr>\n",
       "    <tr>\n",
       "      <th>4</th>\n",
       "      <td>PaymentScreenSuccessful</td>\n",
       "      <td>6217807653094995999</td>\n",
       "      <td>1564055322</td>\n",
       "      <td>248</td>\n",
       "    </tr>\n",
       "  </tbody>\n",
       "</table>\n",
       "</div>"
      ],
      "text/plain": [
       "                 EventName         DeviceIDHash  EventTimestamp  ExpId\n",
       "0         MainScreenAppear  4575588528974610257      1564029816    246\n",
       "1         MainScreenAppear  7416695313311560658      1564053102    246\n",
       "2  PaymentScreenSuccessful  3518123091307005509      1564054127    248\n",
       "3         CartScreenAppear  3518123091307005509      1564054127    248\n",
       "4  PaymentScreenSuccessful  6217807653094995999      1564055322    248"
      ]
     },
     "execution_count": 5,
     "metadata": {},
     "output_type": "execute_result"
    }
   ],
   "source": [
    "df.head()"
   ]
  },
  {
   "cell_type": "code",
   "execution_count": 6,
   "metadata": {},
   "outputs": [],
   "source": [
    "df = df.rename(columns={'EventName':'event_type', \n",
    "                        'DeviceIDHash':'device_id', \n",
    "                        'EventTimestamp':'time', \n",
    "                        'ExpId':'group'})\n",
    "\n",
    "df['time'] = df.time.apply(lambda x: dt.datetime.fromtimestamp(x))"
   ]
  },
  {
   "cell_type": "code",
   "execution_count": 8,
   "metadata": {},
   "outputs": [],
   "source": [
    "def base_check(data):\n",
    "    \n",
    "    print('Number of empty cells:')\n",
    "    for col in data.columns:\n",
    "        print(col, ':', data[col].isnull().sum())\n",
    "    print()\n",
    "    print('Number of duplicates:', data.duplicated().sum())"
   ]
  },
  {
   "cell_type": "code",
   "execution_count": 9,
   "metadata": {},
   "outputs": [
    {
     "name": "stdout",
     "output_type": "stream",
     "text": [
      "Number of empty cells:\n",
      "event_type : 0\n",
      "device_id : 0\n",
      "time : 0\n",
      "group : 0\n",
      "\n",
      "Number of duplicates: 413\n"
     ]
    }
   ],
   "source": [
    "base_check(df)"
   ]
  },
  {
   "cell_type": "code",
   "execution_count": 10,
   "metadata": {},
   "outputs": [
    {
     "name": "stdout",
     "output_type": "stream",
     "text": [
      "Number of empty cells:\n",
      "event_type : 0\n",
      "device_id : 0\n",
      "time : 0\n",
      "group : 0\n",
      "\n",
      "Number of duplicates: 0\n"
     ]
    }
   ],
   "source": [
    "# duplicates delete\n",
    "\n",
    "df = df.drop_duplicates()\n",
    "base_check(df)"
   ]
  },
  {
   "cell_type": "code",
   "execution_count": 46,
   "metadata": {},
   "outputs": [
    {
     "name": "stdout",
     "output_type": "stream",
     "text": [
      "<class 'pandas.core.frame.DataFrame'>\n",
      "Int64Index: 243713 entries, 0 to 244125\n",
      "Data columns (total 5 columns):\n",
      " #   Column      Non-Null Count   Dtype         \n",
      "---  ------      --------------   -----         \n",
      " 0   event_type  243713 non-null  object        \n",
      " 1   device_id   243713 non-null  int64         \n",
      " 2   time        243713 non-null  datetime64[ns]\n",
      " 3   group       243713 non-null  int64         \n",
      " 4   date        243713 non-null  object        \n",
      "dtypes: datetime64[ns](1), int64(2), object(2)\n",
      "memory usage: 11.2+ MB\n"
     ]
    }
   ],
   "source": [
    "# changing type of the timestamp data\n",
    "df['date'] = df.time.dt.date\n",
    "df.info()"
   ]
  },
  {
   "cell_type": "markdown",
   "metadata": {},
   "source": [
    "# Step 2. Data check"
   ]
  },
  {
   "cell_type": "code",
   "execution_count": 48,
   "metadata": {},
   "outputs": [
    {
     "name": "stdout",
     "output_type": "stream",
     "text": [
      "Total events: 243713\n",
      "Total unique users: 7551\n",
      "There are 32.28 events per user\n"
     ]
    }
   ],
   "source": [
    "print('Total events:', df.shape[0])\n",
    "print('Total unique users:', len(df.device_id.unique()))\n",
    "\n",
    "m = round((df.shape[0] / len(df.device_id.unique())),2)\n",
    "print(f'There are {m} events per user')"
   ]
  },
  {
   "cell_type": "code",
   "execution_count": 49,
   "metadata": {},
   "outputs": [
    {
     "name": "stdout",
     "output_type": "stream",
     "text": [
      "Min date: 2019-07-25\n",
      "Max date: 2019-08-08\n"
     ]
    }
   ],
   "source": [
    "print('Min date:', df.date.min())\n",
    "print('Max date:', df.date.max())"
   ]
  },
  {
   "cell_type": "code",
   "execution_count": 51,
   "metadata": {},
   "outputs": [
    {
     "data": {
      "image/png": "[encoded data removed]",
      "text/plain": [
       "<Figure size 432x288 with 1 Axes>"
      ]
     },
     "metadata": {
      "needs_background": "light"
     },
     "output_type": "display_data"
    }
   ],
   "source": [
    "# need to check if there is no irrelevant data\n",
    "time_stat = df.groupby('date').agg({'device_id':'nunique'})\n",
    "time_stat.plot.hist(bins=20)\n",
    "plt.title('Event frequency per date')\n",
    "plt.show()\n"
   ]
  },
  {
   "cell_type": "markdown",
   "metadata": {},
   "source": [
    "Seems that there is old irrelevn data in the file"
   ]
  },
  {
   "cell_type": "code",
   "execution_count": 17,
   "metadata": {},
   "outputs": [
    {
     "data": {
      "text/html": [
       "<div>\n",
       "<style scoped>\n",
       "    .dataframe tbody tr th:only-of-type {\n",
       "        vertical-align: middle;\n",
       "    }\n",
       "\n",
       "    .dataframe tbody tr th {\n",
       "        vertical-align: top;\n",
       "    }\n",
       "\n",
       "    .dataframe thead th {\n",
       "        text-align: right;\n",
       "    }\n",
       "</style>\n",
       "<table border=\"1\" class=\"dataframe\">\n",
       "  <thead>\n",
       "    <tr style=\"text-align: right;\">\n",
       "      <th></th>\n",
       "      <th>date</th>\n",
       "      <th>device_id</th>\n",
       "    </tr>\n",
       "  </thead>\n",
       "  <tbody>\n",
       "    <tr>\n",
       "      <th>0</th>\n",
       "      <td>2019-07-25</td>\n",
       "      <td>7</td>\n",
       "    </tr>\n",
       "    <tr>\n",
       "      <th>1</th>\n",
       "      <td>2019-07-26</td>\n",
       "      <td>21</td>\n",
       "    </tr>\n",
       "    <tr>\n",
       "      <th>2</th>\n",
       "      <td>2019-07-27</td>\n",
       "      <td>39</td>\n",
       "    </tr>\n",
       "    <tr>\n",
       "      <th>3</th>\n",
       "      <td>2019-07-28</td>\n",
       "      <td>68</td>\n",
       "    </tr>\n",
       "    <tr>\n",
       "      <th>4</th>\n",
       "      <td>2019-07-29</td>\n",
       "      <td>132</td>\n",
       "    </tr>\n",
       "    <tr>\n",
       "      <th>5</th>\n",
       "      <td>2019-07-30</td>\n",
       "      <td>283</td>\n",
       "    </tr>\n",
       "    <tr>\n",
       "      <th>6</th>\n",
       "      <td>2019-07-31</td>\n",
       "      <td>798</td>\n",
       "    </tr>\n",
       "    <tr>\n",
       "      <th>7</th>\n",
       "      <td>2019-08-01</td>\n",
       "      <td>3688</td>\n",
       "    </tr>\n",
       "    <tr>\n",
       "      <th>8</th>\n",
       "      <td>2019-08-02</td>\n",
       "      <td>3641</td>\n",
       "    </tr>\n",
       "    <tr>\n",
       "      <th>9</th>\n",
       "      <td>2019-08-03</td>\n",
       "      <td>3472</td>\n",
       "    </tr>\n",
       "    <tr>\n",
       "      <th>10</th>\n",
       "      <td>2019-08-04</td>\n",
       "      <td>3511</td>\n",
       "    </tr>\n",
       "    <tr>\n",
       "      <th>11</th>\n",
       "      <td>2019-08-05</td>\n",
       "      <td>3803</td>\n",
       "    </tr>\n",
       "    <tr>\n",
       "      <th>12</th>\n",
       "      <td>2019-08-06</td>\n",
       "      <td>3933</td>\n",
       "    </tr>\n",
       "    <tr>\n",
       "      <th>13</th>\n",
       "      <td>2019-08-07</td>\n",
       "      <td>3682</td>\n",
       "    </tr>\n",
       "    <tr>\n",
       "      <th>14</th>\n",
       "      <td>2019-08-08</td>\n",
       "      <td>23</td>\n",
       "    </tr>\n",
       "  </tbody>\n",
       "</table>\n",
       "</div>"
      ],
      "text/plain": [
       "          date  device_id\n",
       "0   2019-07-25          7\n",
       "1   2019-07-26         21\n",
       "2   2019-07-27         39\n",
       "3   2019-07-28         68\n",
       "4   2019-07-29        132\n",
       "5   2019-07-30        283\n",
       "6   2019-07-31        798\n",
       "7   2019-08-01       3688\n",
       "8   2019-08-02       3641\n",
       "9   2019-08-03       3472\n",
       "10  2019-08-04       3511\n",
       "11  2019-08-05       3803\n",
       "12  2019-08-06       3933\n",
       "13  2019-08-07       3682\n",
       "14  2019-08-08         23"
      ]
     },
     "execution_count": 17,
     "metadata": {},
     "output_type": "execute_result"
    }
   ],
   "source": [
    "time_stat = time_stat.reset_index()\n",
    "time_stat"
   ]
  },
  {
   "cell_type": "code",
   "execution_count": 52,
   "metadata": {},
   "outputs": [],
   "source": [
    "# Deleting irrelevn data\n",
    "df_new = df[(df['date'] > dt.date(2019, 7, 31)) & (df['date'] < dt.date(2019, 8, 8))]"
   ]
  },
  {
   "cell_type": "code",
   "execution_count": 53,
   "metadata": {},
   "outputs": [
    {
     "name": "stdout",
     "output_type": "stream",
     "text": [
      "After filtering we lost 5.1% events\n",
      "After filtering we lost 0.2% users\n"
     ]
    }
   ],
   "source": [
    "# How many data we have filtered out? \n",
    "time_stat_new = df_new.groupby('date').agg({'device_id':'nunique'})\n",
    "was_filt = abs(round((time_stat_new.device_id.sum() / time_stat.device_id.sum()-1)*100, 1))\n",
    "\n",
    "users_was_filt = abs(round((len(df_new.device_id.unique()) / len(df.device_id.unique())-1)*100, 1))\n",
    "\n",
    "print(f'After filtering we lost {was_filt}% events')\n",
    "print(f'After filtering we lost {users_was_filt}% users')\n"
   ]
  },
  {
   "cell_type": "markdown",
   "metadata": {},
   "source": [
    "# Step 3. Funnel analysis"
   ]
  },
  {
   "cell_type": "code",
   "execution_count": 21,
   "metadata": {},
   "outputs": [
    {
     "data": {
      "text/plain": [
       "MainScreenAppear           117850\n",
       "OffersScreenAppear          46509\n",
       "CartScreenAppear            42338\n",
       "PaymentScreenSuccessful     33949\n",
       "Tutorial                     1010\n",
       "Name: event_type, dtype: int64"
      ]
     },
     "execution_count": 21,
     "metadata": {},
     "output_type": "execute_result"
    }
   ],
   "source": [
    "df_new.event_type.value_counts(ascending=False)"
   ]
  },
  {
   "cell_type": "code",
   "execution_count": 54,
   "metadata": {},
   "outputs": [
    {
     "data": {
      "text/html": [
       "<div>\n",
       "<style scoped>\n",
       "    .dataframe tbody tr th:only-of-type {\n",
       "        vertical-align: middle;\n",
       "    }\n",
       "\n",
       "    .dataframe tbody tr th {\n",
       "        vertical-align: top;\n",
       "    }\n",
       "\n",
       "    .dataframe thead th {\n",
       "        text-align: right;\n",
       "    }\n",
       "</style>\n",
       "<table border=\"1\" class=\"dataframe\">\n",
       "  <thead>\n",
       "    <tr style=\"text-align: right;\">\n",
       "      <th></th>\n",
       "      <th>event_type</th>\n",
       "      <th>user_cnt</th>\n",
       "    </tr>\n",
       "  </thead>\n",
       "  <tbody>\n",
       "    <tr>\n",
       "      <th>0</th>\n",
       "      <td>MainScreenAppear</td>\n",
       "      <td>7423</td>\n",
       "    </tr>\n",
       "    <tr>\n",
       "      <th>1</th>\n",
       "      <td>OffersScreenAppear</td>\n",
       "      <td>4596</td>\n",
       "    </tr>\n",
       "    <tr>\n",
       "      <th>2</th>\n",
       "      <td>CartScreenAppear</td>\n",
       "      <td>3736</td>\n",
       "    </tr>\n",
       "    <tr>\n",
       "      <th>3</th>\n",
       "      <td>PaymentScreenSuccessful</td>\n",
       "      <td>3540</td>\n",
       "    </tr>\n",
       "    <tr>\n",
       "      <th>4</th>\n",
       "      <td>Tutorial</td>\n",
       "      <td>843</td>\n",
       "    </tr>\n",
       "  </tbody>\n",
       "</table>\n",
       "</div>"
      ],
      "text/plain": [
       "                event_type  user_cnt\n",
       "0         MainScreenAppear      7423\n",
       "1       OffersScreenAppear      4596\n",
       "2         CartScreenAppear      3736\n",
       "3  PaymentScreenSuccessful      3540\n",
       "4                 Tutorial       843"
      ]
     },
     "execution_count": 54,
     "metadata": {},
     "output_type": "execute_result"
    }
   ],
   "source": [
    "# calculating users per each event type\n",
    "event_stat = (df_new.groupby('event_type')\n",
    "              .agg({'device_id':'nunique'})\n",
    "              .sort_values('device_id', ascending=False)\n",
    "              .reset_index()\n",
    "              \n",
    ")\n",
    "event_stat.columns = ['event_type', 'user_cnt']\n",
    "event_stat"
   ]
  },
  {
   "cell_type": "code",
   "execution_count": 55,
   "metadata": {},
   "outputs": [
    {
     "data": {
      "text/html": [
       "<div>\n",
       "<style scoped>\n",
       "    .dataframe tbody tr th:only-of-type {\n",
       "        vertical-align: middle;\n",
       "    }\n",
       "\n",
       "    .dataframe tbody tr th {\n",
       "        vertical-align: top;\n",
       "    }\n",
       "\n",
       "    .dataframe thead th {\n",
       "        text-align: right;\n",
       "    }\n",
       "</style>\n",
       "<table border=\"1\" class=\"dataframe\">\n",
       "  <thead>\n",
       "    <tr style=\"text-align: right;\">\n",
       "      <th></th>\n",
       "      <th>event_type</th>\n",
       "      <th>user_cnt</th>\n",
       "      <th>share_from_all</th>\n",
       "    </tr>\n",
       "  </thead>\n",
       "  <tbody>\n",
       "    <tr>\n",
       "      <th>0</th>\n",
       "      <td>MainScreenAppear</td>\n",
       "      <td>7423</td>\n",
       "      <td>0.984744</td>\n",
       "    </tr>\n",
       "    <tr>\n",
       "      <th>1</th>\n",
       "      <td>OffersScreenAppear</td>\n",
       "      <td>4596</td>\n",
       "      <td>0.609711</td>\n",
       "    </tr>\n",
       "    <tr>\n",
       "      <th>2</th>\n",
       "      <td>CartScreenAppear</td>\n",
       "      <td>3736</td>\n",
       "      <td>0.495622</td>\n",
       "    </tr>\n",
       "    <tr>\n",
       "      <th>3</th>\n",
       "      <td>PaymentScreenSuccessful</td>\n",
       "      <td>3540</td>\n",
       "      <td>0.469621</td>\n",
       "    </tr>\n",
       "    <tr>\n",
       "      <th>4</th>\n",
       "      <td>Tutorial</td>\n",
       "      <td>843</td>\n",
       "      <td>0.111833</td>\n",
       "    </tr>\n",
       "  </tbody>\n",
       "</table>\n",
       "</div>"
      ],
      "text/plain": [
       "                event_type  user_cnt  share_from_all\n",
       "0         MainScreenAppear      7423        0.984744\n",
       "1       OffersScreenAppear      4596        0.609711\n",
       "2         CartScreenAppear      3736        0.495622\n",
       "3  PaymentScreenSuccessful      3540        0.469621\n",
       "4                 Tutorial       843        0.111833"
      ]
     },
     "execution_count": 55,
     "metadata": {},
     "output_type": "execute_result"
    }
   ],
   "source": [
    "# Calculating event type shares from all users\n",
    "\n",
    "event_stat['share_from_all'] = event_stat.user_cnt / len(df_new.device_id.unique())\n",
    "event_stat"
   ]
  },
  {
   "cell_type": "markdown",
   "metadata": {},
   "source": []
  },
  {
   "cell_type": "markdown",
   "metadata": {},
   "source": [
    "The flow is followint: \n",
    "- MainScreenAppear\n",
    "- OffersScreenAppear\n",
    "- CartScreenAppear\n",
    "- PaymentScreenSuccessful\n",
    "\n",
    "Tutorial is not in the purchase jouney \n",
    "\n",
    "Seems that not all the users went throw first event MainScreenAppear. Probably some came directly to the Offer of saw only Tutorial\n"
   ]
  },
  {
   "cell_type": "code",
   "execution_count": 57,
   "metadata": {},
   "outputs": [
    {
     "data": {
      "text/html": [
       "<div>\n",
       "<style scoped>\n",
       "    .dataframe tbody tr th:only-of-type {\n",
       "        vertical-align: middle;\n",
       "    }\n",
       "\n",
       "    .dataframe tbody tr th {\n",
       "        vertical-align: top;\n",
       "    }\n",
       "\n",
       "    .dataframe thead th {\n",
       "        text-align: right;\n",
       "    }\n",
       "</style>\n",
       "<table border=\"1\" class=\"dataframe\">\n",
       "  <thead>\n",
       "    <tr style=\"text-align: right;\">\n",
       "      <th></th>\n",
       "      <th>event_type</th>\n",
       "      <th>user_cnt</th>\n",
       "      <th>share_from_all</th>\n",
       "      <th>conversion_by_step</th>\n",
       "    </tr>\n",
       "  </thead>\n",
       "  <tbody>\n",
       "    <tr>\n",
       "      <th>0</th>\n",
       "      <td>MainScreenAppear</td>\n",
       "      <td>7423</td>\n",
       "      <td>0.984744</td>\n",
       "      <td>1.0</td>\n",
       "    </tr>\n",
       "    <tr>\n",
       "      <th>1</th>\n",
       "      <td>OffersScreenAppear</td>\n",
       "      <td>4596</td>\n",
       "      <td>0.609711</td>\n",
       "      <td>0.62</td>\n",
       "    </tr>\n",
       "    <tr>\n",
       "      <th>2</th>\n",
       "      <td>CartScreenAppear</td>\n",
       "      <td>3736</td>\n",
       "      <td>0.495622</td>\n",
       "      <td>0.81</td>\n",
       "    </tr>\n",
       "    <tr>\n",
       "      <th>3</th>\n",
       "      <td>PaymentScreenSuccessful</td>\n",
       "      <td>3540</td>\n",
       "      <td>0.469621</td>\n",
       "      <td>0.95</td>\n",
       "    </tr>\n",
       "  </tbody>\n",
       "</table>\n",
       "</div>"
      ],
      "text/plain": [
       "                event_type  user_cnt  share_from_all conversion_by_step\n",
       "0         MainScreenAppear      7423        0.984744                1.0\n",
       "1       OffersScreenAppear      4596        0.609711               0.62\n",
       "2         CartScreenAppear      3736        0.495622               0.81\n",
       "3  PaymentScreenSuccessful      3540        0.469621               0.95"
      ]
     },
     "execution_count": 57,
     "metadata": {},
     "output_type": "execute_result"
    }
   ],
   "source": [
    "# Calculating cj statistic\n",
    "cjm_stat = event_stat.query('event_type != \"Tutorial\"').copy()\n",
    "cjm_stat['conversion_by_step'] = cjm_stat['user_cnt'] / cjm_stat['user_cnt'].shift(fill_value=cjm_stat.loc[0,'user_cnt'])\n",
    "cjm_stat['conversion_by_step'] = cjm_stat.conversion_by_step.apply('{:.2}'.format)\n",
    "cjm_stat\n"
   ]
  },
  {
   "cell_type": "code",
   "execution_count": 58,
   "metadata": {},
   "outputs": [
    {
     "data": {
      "application/vnd.plotly.v1+json": {
       "config": {
        "plotlyServerURL": "https://plot.ly"
       },
       "data": [
        {
         "type": "funnel",
         "x": [
          7423,
          4596,
          3736,
          3540
         ],
         "y": [
          "MainScreenAppear",
          "OffersScreenAppear",
          "CartScreenAppear",
          "PaymentScreenSuccessful"
         ]
        }
       ],
       "layout": {
        "template": {
         "data": {
          "bar": [
           {
            "error_x": {
             "color": "#2a3f5f"
            },
            "error_y": {
             "color": "#2a3f5f"
            },
            "marker": {
             "line": {
              "color": "#E5ECF6",
              "width": 0.5
             },
             "pattern": {
              "fillmode": "overlay",
              "size": 10,
              "solidity": 0.2
             }
            },
            "type": "bar"
           }
          ],
          "barpolar": [
           {
            "marker": {
             "line": {
              "color": "#E5ECF6",
              "width": 0.5
             },
             "pattern": {
              "fillmode": "overlay",
              "size": 10,
              "solidity": 0.2
             }
            },
            "type": "barpolar"
           }
          ],
          "carpet": [
           {
            "aaxis": {
             "endlinecolor": "#2a3f5f",
             "gridcolor": "white",
             "linecolor": "white",
             "minorgridcolor": "white",
             "startlinecolor": "#2a3f5f"
            },
            "baxis": {
             "endlinecolor": "#2a3f5f",
             "gridcolor": "white",
             "linecolor": "white",
             "minorgridcolor": "white",
             "startlinecolor": "#2a3f5f"
            },
            "type": "carpet"
           }
          ],
          "choropleth": [
           {
            "colorbar": {
             "outlinewidth": 0,
             "ticks": ""
            },
            "type": "choropleth"
           }
          ],
          "contour": [
           {
            "colorbar": {
             "outlinewidth": 0,
             "ticks": ""
            },
            "colorscale": [
             [
              0,
              "#0d0887"
             ],
             [
              0.1111111111111111,
              "#46039f"
             ],
             [
              0.2222222222222222,
              "#7201a8"
             ],
             [
              0.3333333333333333,
              "#9c179e"
             ],
             [
              0.4444444444444444,
              "#bd3786"
             ],
             [
              0.5555555555555556,
              "#d8576b"
             ],
             [
              0.6666666666666666,
              "#ed7953"
             ],
             [
              0.7777777777777778,
              "#fb9f3a"
             ],
             [
              0.8888888888888888,
              "#fdca26"
             ],
             [
              1,
              "#f0f921"
             ]
            ],
            "type": "contour"
           }
          ],
          "contourcarpet": [
           {
            "colorbar": {
             "outlinewidth": 0,
             "ticks": ""
            },
            "type": "contourcarpet"
           }
          ],
          "heatmap": [
           {
            "colorbar": {
             "outlinewidth": 0,
             "ticks": ""
            },
            "colorscale": [
             [
              0,
              "#0d0887"
             ],
             [
              0.1111111111111111,
              "#46039f"
             ],
             [
              0.2222222222222222,
              "#7201a8"
             ],
             [
              0.3333333333333333,
              "#9c179e"
             ],
             [
              0.4444444444444444,
              "#bd3786"
             ],
             [
              0.5555555555555556,
              "#d8576b"
             ],
             [
              0.6666666666666666,
              "#ed7953"
             ],
             [
              0.7777777777777778,
              "#fb9f3a"
             ],
             [
              0.8888888888888888,
              "#fdca26"
             ],
             [
              1,
              "#f0f921"
             ]
            ],
            "type": "heatmap"
           }
          ],
          "heatmapgl": [
           {
            "colorbar": {
             "outlinewidth": 0,
             "ticks": ""
            },
            "colorscale": [
             [
              0,
              "#0d0887"
             ],
             [
              0.1111111111111111,
              "#46039f"
             ],
             [
              0.2222222222222222,
              "#7201a8"
             ],
             [
              0.3333333333333333,
              "#9c179e"
             ],
             [
              0.4444444444444444,
              "#bd3786"
             ],
             [
              0.5555555555555556,
              "#d8576b"
             ],
             [
              0.6666666666666666,
              "#ed7953"
             ],
             [
              0.7777777777777778,
              "#fb9f3a"
             ],
             [
              0.8888888888888888,
              "#fdca26"
             ],
             [
              1,
              "#f0f921"
             ]
            ],
            "type": "heatmapgl"
           }
          ],
          "histogram": [
           {
            "marker": {
             "pattern": {
              "fillmode": "overlay",
              "size": 10,
              "solidity": 0.2
             }
            },
            "type": "histogram"
           }
          ],
          "histogram2d": [
           {
            "colorbar": {
             "outlinewidth": 0,
             "ticks": ""
            },
            "colorscale": [
             [
              0,
              "#0d0887"
             ],
             [
              0.1111111111111111,
              "#46039f"
             ],
             [
              0.2222222222222222,
              "#7201a8"
             ],
             [
              0.3333333333333333,
              "#9c179e"
             ],
             [
              0.4444444444444444,
              "#bd3786"
             ],
             [
              0.5555555555555556,
              "#d8576b"
             ],
             [
              0.6666666666666666,
              "#ed7953"
             ],
             [
              0.7777777777777778,
              "#fb9f3a"
             ],
             [
              0.8888888888888888,
              "#fdca26"
             ],
             [
              1,
              "#f0f921"
             ]
            ],
            "type": "histogram2d"
           }
          ],
          "histogram2dcontour": [
           {
            "colorbar": {
             "outlinewidth": 0,
             "ticks": ""
            },
            "colorscale": [
             [
              0,
              "#0d0887"
             ],
             [
              0.1111111111111111,
              "#46039f"
             ],
             [
              0.2222222222222222,
              "#7201a8"
             ],
             [
              0.3333333333333333,
              "#9c179e"
             ],
             [
              0.4444444444444444,
              "#bd3786"
             ],
             [
              0.5555555555555556,
              "#d8576b"
             ],
             [
              0.6666666666666666,
              "#ed7953"
             ],
             [
              0.7777777777777778,
              "#fb9f3a"
             ],
             [
              0.8888888888888888,
              "#fdca26"
             ],
             [
              1,
              "#f0f921"
             ]
            ],
            "type": "histogram2dcontour"
           }
          ],
          "mesh3d": [
           {
            "colorbar": {
             "outlinewidth": 0,
             "ticks": ""
            },
            "type": "mesh3d"
           }
          ],
          "parcoords": [
           {
            "line": {
             "colorbar": {
              "outlinewidth": 0,
              "ticks": ""
             }
            },
            "type": "parcoords"
           }
          ],
          "pie": [
           {
            "automargin": true,
            "type": "pie"
           }
          ],
          "scatter": [
           {
            "marker": {
             "colorbar": {
              "outlinewidth": 0,
              "ticks": ""
             }
            },
            "type": "scatter"
           }
          ],
          "scatter3d": [
           {
            "line": {
             "colorbar": {
              "outlinewidth": 0,
              "ticks": ""
             }
            },
            "marker": {
             "colorbar": {
              "outlinewidth": 0,
              "ticks": ""
             }
            },
            "type": "scatter3d"
           }
          ],
          "scattercarpet": [
           {
            "marker": {
             "colorbar": {
              "outlinewidth": 0,
              "ticks": ""
             }
            },
            "type": "scattercarpet"
           }
          ],
          "scattergeo": [
           {
            "marker": {
             "colorbar": {
              "outlinewidth": 0,
              "ticks": ""
             }
            },
            "type": "scattergeo"
           }
          ],
          "scattergl": [
           {
            "marker": {
             "colorbar": {
              "outlinewidth": 0,
              "ticks": ""
             }
            },
            "type": "scattergl"
           }
          ],
          "scattermapbox": [
           {
            "marker": {
             "colorbar": {
              "outlinewidth": 0,
              "ticks": ""
             }
            },
            "type": "scattermapbox"
           }
          ],
          "scatterpolar": [
           {
            "marker": {
             "colorbar": {
              "outlinewidth": 0,
              "ticks": ""
             }
            },
            "type": "scatterpolar"
           }
          ],
          "scatterpolargl": [
           {
            "marker": {
             "colorbar": {
              "outlinewidth": 0,
              "ticks": ""
             }
            },
            "type": "scatterpolargl"
           }
          ],
          "scatterternary": [
           {
            "marker": {
             "colorbar": {
              "outlinewidth": 0,
              "ticks": ""
             }
            },
            "type": "scatterternary"
           }
          ],
          "surface": [
           {
            "colorbar": {
             "outlinewidth": 0,
             "ticks": ""
            },
            "colorscale": [
             [
              0,
              "#0d0887"
             ],
             [
              0.1111111111111111,
              "#46039f"
             ],
             [
              0.2222222222222222,
              "#7201a8"
             ],
             [
              0.3333333333333333,
              "#9c179e"
             ],
             [
              0.4444444444444444,
              "#bd3786"
             ],
             [
              0.5555555555555556,
              "#d8576b"
             ],
             [
              0.6666666666666666,
              "#ed7953"
             ],
             [
              0.7777777777777778,
              "#fb9f3a"
             ],
             [
              0.8888888888888888,
              "#fdca26"
             ],
             [
              1,
              "#f0f921"
             ]
            ],
            "type": "surface"
           }
          ],
          "table": [
           {
            "cells": {
             "fill": {
              "color": "#EBF0F8"
             },
             "line": {
              "color": "white"
             }
            },
            "header": {
             "fill": {
              "color": "#C8D4E3"
             },
             "line": {
              "color": "white"
             }
            },
            "type": "table"
           }
          ]
         },
         "layout": {
          "annotationdefaults": {
           "arrowcolor": "#2a3f5f",
           "arrowhead": 0,
           "arrowwidth": 1
          },
          "autotypenumbers": "strict",
          "coloraxis": {
           "colorbar": {
            "outlinewidth": 0,
            "ticks": ""
           }
          },
          "colorscale": {
           "diverging": [
            [
             0,
             "#8e0152"
            ],
            [
             0.1,
             "#c51b7d"
            ],
            [
             0.2,
             "#de77ae"
            ],
            [
             0.3,
             "#f1b6da"
            ],
            [
             0.4,
             "#fde0ef"
            ],
            [
             0.5,
             "#f7f7f7"
            ],
            [
             0.6,
             "#e6f5d0"
            ],
            [
             0.7,
             "#b8e186"
            ],
            [
             0.8,
             "#7fbc41"
            ],
            [
             0.9,
             "#4d9221"
            ],
            [
             1,
             "#276419"
            ]
           ],
           "sequential": [
            [
             0,
             "#0d0887"
            ],
            [
             0.1111111111111111,
             "#46039f"
            ],
            [
             0.2222222222222222,
             "#7201a8"
            ],
            [
             0.3333333333333333,
             "#9c179e"
            ],
            [
             0.4444444444444444,
             "#bd3786"
            ],
            [
             0.5555555555555556,
             "#d8576b"
            ],
            [
             0.6666666666666666,
             "#ed7953"
            ],
            [
             0.7777777777777778,
             "#fb9f3a"
            ],
            [
             0.8888888888888888,
             "#fdca26"
            ],
            [
             1,
             "#f0f921"
            ]
           ],
           "sequentialminus": [
            [
             0,
             "#0d0887"
            ],
            [
             0.1111111111111111,
             "#46039f"
            ],
            [
             0.2222222222222222,
             "#7201a8"
            ],
            [
             0.3333333333333333,
             "#9c179e"
            ],
            [
             0.4444444444444444,
             "#bd3786"
            ],
            [
             0.5555555555555556,
             "#d8576b"
            ],
            [
             0.6666666666666666,
             "#ed7953"
            ],
            [
             0.7777777777777778,
             "#fb9f3a"
            ],
            [
             0.8888888888888888,
             "#fdca26"
            ],
            [
             1,
             "#f0f921"
            ]
           ]
          },
          "colorway": [
           "#636efa",
           "#EF553B",
           "#00cc96",
           "#ab63fa",
           "#FFA15A",
           "#19d3f3",
           "#FF6692",
           "#B6E880",
           "#FF97FF",
           "#FECB52"
          ],
          "font": {
           "color": "#2a3f5f"
          },
          "geo": {
           "bgcolor": "white",
           "lakecolor": "white",
           "landcolor": "#E5ECF6",
           "showlakes": true,
           "showland": true,
           "subunitcolor": "white"
          },
          "hoverlabel": {
           "align": "left"
          },
          "hovermode": "closest",
          "mapbox": {
           "style": "light"
          },
          "paper_bgcolor": "white",
          "plot_bgcolor": "#E5ECF6",
          "polar": {
           "angularaxis": {
            "gridcolor": "white",
            "linecolor": "white",
            "ticks": ""
           },
           "bgcolor": "#E5ECF6",
           "radialaxis": {
            "gridcolor": "white",
            "linecolor": "white",
            "ticks": ""
           }
          },
          "scene": {
           "xaxis": {
            "backgroundcolor": "#E5ECF6",
            "gridcolor": "white",
            "gridwidth": 2,
            "linecolor": "white",
            "showbackground": true,
            "ticks": "",
            "zerolinecolor": "white"
           },
           "yaxis": {
            "backgroundcolor": "#E5ECF6",
            "gridcolor": "white",
            "gridwidth": 2,
            "linecolor": "white",
            "showbackground": true,
            "ticks": "",
            "zerolinecolor": "white"
           },
           "zaxis": {
            "backgroundcolor": "#E5ECF6",
            "gridcolor": "white",
            "gridwidth": 2,
            "linecolor": "white",
            "showbackground": true,
            "ticks": "",
            "zerolinecolor": "white"
           }
          },
          "shapedefaults": {
           "line": {
            "color": "#2a3f5f"
           }
          },
          "ternary": {
           "aaxis": {
            "gridcolor": "white",
            "linecolor": "white",
            "ticks": ""
           },
           "baxis": {
            "gridcolor": "white",
            "linecolor": "white",
            "ticks": ""
           },
           "bgcolor": "#E5ECF6",
           "caxis": {
            "gridcolor": "white",
            "linecolor": "white",
            "ticks": ""
           }
          },
          "title": {
           "x": 0.05
          },
          "xaxis": {
           "automargin": true,
           "gridcolor": "white",
           "linecolor": "white",
           "ticks": "",
           "title": {
            "standoff": 15
           },
           "zerolinecolor": "white",
           "zerolinewidth": 2
          },
          "yaxis": {
           "automargin": true,
           "gridcolor": "white",
           "linecolor": "white",
           "ticks": "",
           "title": {
            "standoff": 15
           },
           "zerolinecolor": "white",
           "zerolinewidth": 2
          }
         }
        },
        "title": {
         "text": "Purchase funnel plot"
        }
       }
      }
     },
     "metadata": {},
     "output_type": "display_data"
    }
   ],
   "source": [
    "fig = go.Figure(\n",
    "    go.Funnel(\n",
    "        y=cjm_stat['event_type'],\n",
    "        x=cjm_stat['user_cnt']\n",
    "    )\n",
    ")\n",
    "\n",
    "fig.update_layout(title='Purchase funnel plot')\n",
    "fig.show()"
   ]
  },
  {
   "cell_type": "markdown",
   "metadata": {},
   "source": [
    "Seems that we lose the most of users on the second step"
   ]
  },
  {
   "cell_type": "code",
   "execution_count": 59,
   "metadata": {},
   "outputs": [
    {
     "data": {
      "text/html": [
       "<div>\n",
       "<style scoped>\n",
       "    .dataframe tbody tr th:only-of-type {\n",
       "        vertical-align: middle;\n",
       "    }\n",
       "\n",
       "    .dataframe tbody tr th {\n",
       "        vertical-align: top;\n",
       "    }\n",
       "\n",
       "    .dataframe thead th {\n",
       "        text-align: right;\n",
       "    }\n",
       "</style>\n",
       "<table border=\"1\" class=\"dataframe\">\n",
       "  <thead>\n",
       "    <tr style=\"text-align: right;\">\n",
       "      <th></th>\n",
       "      <th>event_type</th>\n",
       "      <th>user_cnt</th>\n",
       "      <th>share_from_all</th>\n",
       "      <th>conversion_by_step</th>\n",
       "      <th>conversion_total</th>\n",
       "    </tr>\n",
       "  </thead>\n",
       "  <tbody>\n",
       "    <tr>\n",
       "      <th>0</th>\n",
       "      <td>MainScreenAppear</td>\n",
       "      <td>7423</td>\n",
       "      <td>0.984744</td>\n",
       "      <td>1.0</td>\n",
       "      <td>1.0</td>\n",
       "    </tr>\n",
       "    <tr>\n",
       "      <th>1</th>\n",
       "      <td>OffersScreenAppear</td>\n",
       "      <td>4596</td>\n",
       "      <td>0.609711</td>\n",
       "      <td>0.62</td>\n",
       "      <td>0.62</td>\n",
       "    </tr>\n",
       "    <tr>\n",
       "      <th>2</th>\n",
       "      <td>CartScreenAppear</td>\n",
       "      <td>3736</td>\n",
       "      <td>0.495622</td>\n",
       "      <td>0.81</td>\n",
       "      <td>0.5</td>\n",
       "    </tr>\n",
       "    <tr>\n",
       "      <th>3</th>\n",
       "      <td>PaymentScreenSuccessful</td>\n",
       "      <td>3540</td>\n",
       "      <td>0.469621</td>\n",
       "      <td>0.95</td>\n",
       "      <td>0.48</td>\n",
       "    </tr>\n",
       "  </tbody>\n",
       "</table>\n",
       "</div>"
      ],
      "text/plain": [
       "                event_type  user_cnt  share_from_all conversion_by_step  \\\n",
       "0         MainScreenAppear      7423        0.984744                1.0   \n",
       "1       OffersScreenAppear      4596        0.609711               0.62   \n",
       "2         CartScreenAppear      3736        0.495622               0.81   \n",
       "3  PaymentScreenSuccessful      3540        0.469621               0.95   \n",
       "\n",
       "  conversion_total  \n",
       "0              1.0  \n",
       "1             0.62  \n",
       "2              0.5  \n",
       "3             0.48  "
      ]
     },
     "execution_count": 59,
     "metadata": {},
     "output_type": "execute_result"
    }
   ],
   "source": [
    "# Which share from all come to the end?\n",
    "\n",
    "cjm_stat.loc[:,'conversion_total'] = (cjm_stat.loc[:,'user_cnt'] / cjm_stat.loc[0,'user_cnt'])\n",
    "cjm_stat.loc[:,'conversion_total'] = cjm_stat['conversion_total'].apply('{:.2}'.format)\n",
    "cjm_stat"
   ]
  },
  {
   "cell_type": "markdown",
   "metadata": {},
   "source": [
    "# Step 5. AB test analysis"
   ]
  },
  {
   "cell_type": "code",
   "execution_count": 62,
   "metadata": {},
   "outputs": [
    {
     "data": {
      "text/html": [
       "<div>\n",
       "<style scoped>\n",
       "    .dataframe tbody tr th:only-of-type {\n",
       "        vertical-align: middle;\n",
       "    }\n",
       "\n",
       "    .dataframe tbody tr th {\n",
       "        vertical-align: top;\n",
       "    }\n",
       "\n",
       "    .dataframe thead th {\n",
       "        text-align: right;\n",
       "    }\n",
       "</style>\n",
       "<table border=\"1\" class=\"dataframe\">\n",
       "  <thead>\n",
       "    <tr style=\"text-align: right;\">\n",
       "      <th></th>\n",
       "      <th>device_id</th>\n",
       "    </tr>\n",
       "    <tr>\n",
       "      <th>group</th>\n",
       "      <th></th>\n",
       "    </tr>\n",
       "  </thead>\n",
       "  <tbody>\n",
       "    <tr>\n",
       "      <th>246</th>\n",
       "      <td>2484</td>\n",
       "    </tr>\n",
       "    <tr>\n",
       "      <th>247</th>\n",
       "      <td>2517</td>\n",
       "    </tr>\n",
       "    <tr>\n",
       "      <th>248</th>\n",
       "      <td>2537</td>\n",
       "    </tr>\n",
       "  </tbody>\n",
       "</table>\n",
       "</div>"
      ],
      "text/plain": [
       "       device_id\n",
       "group           \n",
       "246         2484\n",
       "247         2517\n",
       "248         2537"
      ]
     },
     "execution_count": 62,
     "metadata": {},
     "output_type": "execute_result"
    }
   ],
   "source": [
    "# How many people in each group?\n",
    "\n",
    "df_new.groupby('group').agg({'device_id':'nunique'})\n"
   ]
  },
  {
   "cell_type": "code",
   "execution_count": 32,
   "metadata": {},
   "outputs": [
    {
     "data": {
      "text/plain": [
       "device_id    7538\n",
       "dtype: int64"
      ]
     },
     "execution_count": 32,
     "metadata": {},
     "output_type": "execute_result"
    }
   ],
   "source": [
    "user_group_stat.sum()"
   ]
  },
  {
   "cell_type": "code",
   "execution_count": 33,
   "metadata": {},
   "outputs": [
    {
     "data": {
      "text/plain": [
       "7538"
      ]
     },
     "execution_count": 33,
     "metadata": {},
     "output_type": "execute_result"
    }
   ],
   "source": [
    "len(df_new.device_id.unique())"
   ]
  },
  {
   "cell_type": "markdown",
   "metadata": {},
   "source": [
    "Summ in the freq table equals to total number of users. It means that we do not have users fell into two+ groups\n"
   ]
  },
  {
   "cell_type": "code",
   "execution_count": 69,
   "metadata": {},
   "outputs": [],
   "source": [
    "# z-test function\n",
    "def z_test(share1, share2, s_size1, s_size2, alpha=.05):\n",
    "    \n",
    "    p1 = share1 / s_size1\n",
    "    p2 = share2 / s_size2\n",
    "\n",
    "    p_combined = ((share1 + share2) / \n",
    "              (s_size1 + s_size2))\n",
    "\n",
    "    difference = p1 - p2 \n",
    "\n",
    "    z_value = difference / mth.sqrt(p_combined * (1 - p_combined) * (1/s_size1 + 1/s_size2))\n",
    "\n",
    "    distr = st.norm(0, 1)\n",
    "    p_value = (1 - distr.cdf(abs(z_value))) * 2\n",
    "    p_value = round(p_value, 3)\n",
    "\n",
    "    if p_value < alpha:\n",
    "        print('p-value: ', p_value, ', null hypothesis CAN be rejected')\n",
    "    else: print('p-value: ', p_value, ', null hypothesis can NOT be rejected')"
   ]
  },
  {
   "cell_type": "code",
   "execution_count": 66,
   "metadata": {},
   "outputs": [],
   "source": [
    "# Function for conversion stat creation\n",
    "\n",
    "def fcjm_stat(data):\n",
    "    \n",
    "    \n",
    "    event_st = (data.groupby('event_type')\n",
    "              .agg({'device_id':'nunique'})\n",
    "              .sort_values('device_id', ascending=False)           \n",
    "              \n",
    "    )\n",
    "    \n",
    "    event_st.loc['Total','device_id'] = len(data.device_id.unique())\n",
    "    event_st = event_st.drop(['Tutorial']).copy()\n",
    "\n",
    "    event_st = event_st.reset_index()\n",
    "    event_st.columns = ['event_type', 'user_cnt']\n",
    "    \n",
    "    event_st.loc[:3,'conversion_by_step'] = (event_st['user_cnt'] / event_st['user_cnt']\n",
    "                                      .shift(fill_value=event_st.loc[0,'user_cnt'])\n",
    "    )\n",
    "    event_st['conversion_by_step'] = event_st.conversion_by_step.apply('{:.2}'.format)\n",
    "    event_st.loc[:3,'conversion_total'] = (event_st.loc[:,'user_cnt'] / len(data.device_id.unique())) \n",
    "    event_st.loc[:3,'conversion_total'] = event_st['conversion_total'].apply('{:.2}'.format)\n",
    "\n",
    "    \n",
    "    return event_st\n",
    "    \n"
   ]
  },
  {
   "cell_type": "markdown",
   "metadata": {},
   "source": [
    "First of all we need to compare A1 and A2 groups in order to be sured that separation went fine"
   ]
  },
  {
   "cell_type": "code",
   "execution_count": 64,
   "metadata": {},
   "outputs": [
    {
     "data": {
      "text/html": [
       "<div>\n",
       "<style scoped>\n",
       "    .dataframe tbody tr th:only-of-type {\n",
       "        vertical-align: middle;\n",
       "    }\n",
       "\n",
       "    .dataframe tbody tr th {\n",
       "        vertical-align: top;\n",
       "    }\n",
       "\n",
       "    .dataframe thead th {\n",
       "        text-align: right;\n",
       "    }\n",
       "</style>\n",
       "<table border=\"1\" class=\"dataframe\">\n",
       "  <thead>\n",
       "    <tr style=\"text-align: right;\">\n",
       "      <th></th>\n",
       "      <th>event_type</th>\n",
       "      <th>user_cnt</th>\n",
       "      <th>conversion_by_step</th>\n",
       "      <th>conversion_total</th>\n",
       "    </tr>\n",
       "  </thead>\n",
       "  <tbody>\n",
       "    <tr>\n",
       "      <th>0</th>\n",
       "      <td>MainScreenAppear</td>\n",
       "      <td>2450.0</td>\n",
       "      <td>1.0</td>\n",
       "      <td>0.99</td>\n",
       "    </tr>\n",
       "    <tr>\n",
       "      <th>1</th>\n",
       "      <td>OffersScreenAppear</td>\n",
       "      <td>1542.0</td>\n",
       "      <td>0.63</td>\n",
       "      <td>0.62</td>\n",
       "    </tr>\n",
       "    <tr>\n",
       "      <th>2</th>\n",
       "      <td>CartScreenAppear</td>\n",
       "      <td>1266.0</td>\n",
       "      <td>0.82</td>\n",
       "      <td>0.51</td>\n",
       "    </tr>\n",
       "    <tr>\n",
       "      <th>3</th>\n",
       "      <td>PaymentScreenSuccessful</td>\n",
       "      <td>1200.0</td>\n",
       "      <td>0.95</td>\n",
       "      <td>0.48</td>\n",
       "    </tr>\n",
       "    <tr>\n",
       "      <th>4</th>\n",
       "      <td>Total</td>\n",
       "      <td>2484.0</td>\n",
       "      <td>nan</td>\n",
       "      <td>NaN</td>\n",
       "    </tr>\n",
       "  </tbody>\n",
       "</table>\n",
       "</div>"
      ],
      "text/plain": [
       "                event_type  user_cnt conversion_by_step conversion_total\n",
       "0         MainScreenAppear    2450.0                1.0             0.99\n",
       "1       OffersScreenAppear    1542.0               0.63             0.62\n",
       "2         CartScreenAppear    1266.0               0.82             0.51\n",
       "3  PaymentScreenSuccessful    1200.0               0.95             0.48\n",
       "4                    Total    2484.0                nan              NaN"
      ]
     },
     "execution_count": 64,
     "metadata": {},
     "output_type": "execute_result"
    }
   ],
   "source": [
    "# A1 group\n",
    "\n",
    "stat_246 = fcjm_stat(df_new.query('group == 246'))\n",
    "stat_246"
   ]
  },
  {
   "cell_type": "code",
   "execution_count": 37,
   "metadata": {},
   "outputs": [
    {
     "data": {
      "text/html": [
       "<div>\n",
       "<style scoped>\n",
       "    .dataframe tbody tr th:only-of-type {\n",
       "        vertical-align: middle;\n",
       "    }\n",
       "\n",
       "    .dataframe tbody tr th {\n",
       "        vertical-align: top;\n",
       "    }\n",
       "\n",
       "    .dataframe thead th {\n",
       "        text-align: right;\n",
       "    }\n",
       "</style>\n",
       "<table border=\"1\" class=\"dataframe\">\n",
       "  <thead>\n",
       "    <tr style=\"text-align: right;\">\n",
       "      <th></th>\n",
       "      <th>event_type</th>\n",
       "      <th>user_cnt</th>\n",
       "      <th>conversion_by_step</th>\n",
       "      <th>conversion_total</th>\n",
       "    </tr>\n",
       "  </thead>\n",
       "  <tbody>\n",
       "    <tr>\n",
       "      <th>0</th>\n",
       "      <td>MainScreenAppear</td>\n",
       "      <td>2479.0</td>\n",
       "      <td>1.0</td>\n",
       "      <td>0.98</td>\n",
       "    </tr>\n",
       "    <tr>\n",
       "      <th>1</th>\n",
       "      <td>OffersScreenAppear</td>\n",
       "      <td>1523.0</td>\n",
       "      <td>0.61</td>\n",
       "      <td>0.61</td>\n",
       "    </tr>\n",
       "    <tr>\n",
       "      <th>2</th>\n",
       "      <td>CartScreenAppear</td>\n",
       "      <td>1239.0</td>\n",
       "      <td>0.81</td>\n",
       "      <td>0.49</td>\n",
       "    </tr>\n",
       "    <tr>\n",
       "      <th>3</th>\n",
       "      <td>PaymentScreenSuccessful</td>\n",
       "      <td>1158.0</td>\n",
       "      <td>0.93</td>\n",
       "      <td>0.46</td>\n",
       "    </tr>\n",
       "    <tr>\n",
       "      <th>4</th>\n",
       "      <td>Total</td>\n",
       "      <td>2517.0</td>\n",
       "      <td>nan</td>\n",
       "      <td>NaN</td>\n",
       "    </tr>\n",
       "  </tbody>\n",
       "</table>\n",
       "</div>"
      ],
      "text/plain": [
       "                event_type  user_cnt conversion_by_step conversion_total\n",
       "0         MainScreenAppear    2479.0                1.0             0.98\n",
       "1       OffersScreenAppear    1523.0               0.61             0.61\n",
       "2         CartScreenAppear    1239.0               0.81             0.49\n",
       "3  PaymentScreenSuccessful    1158.0               0.93             0.46\n",
       "4                    Total    2517.0                nan              NaN"
      ]
     },
     "execution_count": 37,
     "metadata": {},
     "output_type": "execute_result"
    }
   ],
   "source": [
    "# A2 group\n",
    "stat_247 = fcjm_stat(df_new.query('group == 247'))\n",
    "stat_247"
   ]
  },
  {
   "cell_type": "code",
   "execution_count": 67,
   "metadata": {},
   "outputs": [],
   "source": [
    "# Function for stat comparison with Z-test\n",
    "\n",
    "def check_by_step(data1, data2, alpha=.05):  \n",
    "    for i in range(len(data1.user_cnt)-1):\n",
    "        share1 = data1.loc[i, 'user_cnt']\n",
    "        share2 = data2.loc[i, 'user_cnt']\n",
    "        ssize1 = data1.loc[4, 'user_cnt']\n",
    "        ssize2 = data2.loc[4, 'user_cnt']\n",
    "        print(data1.loc[i, 'event_type'], ':')\n",
    "        z_test(share1, share2, ssize1, ssize2, alpha=alpha)\n",
    "        \n",
    "        "
   ]
  },
  {
   "cell_type": "code",
   "execution_count": 70,
   "metadata": {},
   "outputs": [
    {
     "name": "stdout",
     "output_type": "stream",
     "text": [
      "MainScreenAppear :\n",
      "p-value:  0.676 , null hypothesis can NOT be rejected\n",
      "OffersScreenAppear :\n",
      "p-value:  0.255 , null hypothesis can NOT be rejected\n",
      "CartScreenAppear :\n",
      "p-value:  0.218 , null hypothesis can NOT be rejected\n",
      "PaymentScreenSuccessful :\n",
      "p-value:  0.103 , null hypothesis can NOT be rejected\n"
     ]
    }
   ],
   "source": [
    "# Н0 - There is NO difference between groups' conversions (from all users), \n",
    "# Н1 - There is a difference between groups' conversions (from all users)\n",
    "\n",
    "check_by_step(stat_246, stat_247)"
   ]
  },
  {
   "cell_type": "markdown",
   "metadata": {},
   "source": [
    "## А1+A2 / B comparison"
   ]
  },
  {
   "cell_type": "code",
   "execution_count": 71,
   "metadata": {},
   "outputs": [
    {
     "name": "stdout",
     "output_type": "stream",
     "text": [
      "MainScreenAppear :\n",
      "p-value:  0.393 , null hypothesis can NOT be rejected\n",
      "OffersScreenAppear :\n",
      "p-value:  0.429 , null hypothesis can NOT be rejected\n",
      "CartScreenAppear :\n",
      "p-value:  0.198 , null hypothesis can NOT be rejected\n",
      "PaymentScreenSuccessful :\n",
      "p-value:  0.645 , null hypothesis can NOT be rejected\n"
     ]
    }
   ],
   "source": [
    "# creating united A group and B groups\n",
    "\n",
    "stat_control = fcjm_stat(df_new.query('group == 246 or group == 247'))\n",
    "stat_test = fcjm_stat(df_new.query('group == 248'))\n",
    "\n",
    "check_by_step(stat_control, stat_test)"
   ]
  },
  {
   "cell_type": "markdown",
   "metadata": {},
   "source": [
    "## А1 / B Comparison "
   ]
  },
  {
   "cell_type": "code",
   "execution_count": 72,
   "metadata": {},
   "outputs": [
    {
     "name": "stdout",
     "output_type": "stream",
     "text": [
      "MainScreenAppear :\n",
      "p-value:  0.347 , null hypothesis can NOT be rejected\n",
      "OffersScreenAppear :\n",
      "p-value:  0.208 , null hypothesis can NOT be rejected\n",
      "CartScreenAppear :\n",
      "p-value:  0.083 , null hypothesis can NOT be rejected\n",
      "PaymentScreenSuccessful :\n",
      "p-value:  0.223 , null hypothesis can NOT be rejected\n"
     ]
    }
   ],
   "source": [
    "# As we are conducting two consequent tests we need to apply Bonferonni correction to alpha level \n",
    "check_by_step(stat_246, stat_test, alpha=0.05/3)"
   ]
  },
  {
   "cell_type": "markdown",
   "metadata": {},
   "source": [
    "## А2 / B comparison"
   ]
  },
  {
   "cell_type": "code",
   "execution_count": 73,
   "metadata": {},
   "outputs": [
    {
     "name": "stdout",
     "output_type": "stream",
     "text": [
      "MainScreenAppear :\n",
      "p-value:  0.6 , null hypothesis can NOT be rejected\n",
      "OffersScreenAppear :\n",
      "p-value:  0.906 , null hypothesis can NOT be rejected\n",
      "CartScreenAppear :\n",
      "p-value:  0.617 , null hypothesis can NOT be rejected\n",
      "PaymentScreenSuccessful :\n",
      "p-value:  0.678 , null hypothesis can NOT be rejected\n"
     ]
    }
   ],
   "source": [
    "\n",
    "check_by_step(stat_247, stat_test, alpha=0.05/3)"
   ]
  },
  {
   "cell_type": "markdown",
   "metadata": {},
   "source": [
    "# Conclusions:\n",
    "\n",
    "1) We lose the most of users on Offer window\n",
    "2) 48% of users comes to the purchase\n",
    "3) AB test results: There is no impact of the tested changes on the conversion numbers\n",
    "\n",
    "\n"
   ]
  }
 ],
 "metadata": {
  "ExecuteTimeLog": [
   {
    "duration": 1387,
    "start_time": "2022-07-31T13:22:38.324Z"
   },
   {
    "duration": 631,
    "start_time": "2022-07-31T13:22:39.713Z"
   },
   {
    "duration": 20,
    "start_time": "2022-07-31T13:22:40.346Z"
   },
   {
    "duration": 12,
    "start_time": "2022-07-31T13:22:40.367Z"
   },
   {
    "duration": 468,
    "start_time": "2022-07-31T13:22:40.381Z"
   },
   {
    "duration": 0,
    "start_time": "2022-07-31T13:22:40.851Z"
   },
   {
    "duration": 0,
    "start_time": "2022-07-31T13:22:40.852Z"
   },
   {
    "duration": 0,
    "start_time": "2022-07-31T13:22:40.853Z"
   },
   {
    "duration": 0,
    "start_time": "2022-07-31T13:22:40.854Z"
   },
   {
    "duration": 0,
    "start_time": "2022-07-31T13:22:40.856Z"
   },
   {
    "duration": 0,
    "start_time": "2022-07-31T13:22:40.857Z"
   },
   {
    "duration": 0,
    "start_time": "2022-07-31T13:22:40.858Z"
   },
   {
    "duration": 0,
    "start_time": "2022-07-31T13:22:40.859Z"
   },
   {
    "duration": 0,
    "start_time": "2022-07-31T13:22:40.860Z"
   },
   {
    "duration": 0,
    "start_time": "2022-07-31T13:22:40.862Z"
   },
   {
    "duration": 0,
    "start_time": "2022-07-31T13:22:40.863Z"
   },
   {
    "duration": 0,
    "start_time": "2022-07-31T13:22:40.864Z"
   },
   {
    "duration": 0,
    "start_time": "2022-07-31T13:22:40.866Z"
   },
   {
    "duration": 0,
    "start_time": "2022-07-31T13:22:40.868Z"
   },
   {
    "duration": 1,
    "start_time": "2022-07-31T13:22:40.869Z"
   },
   {
    "duration": 0,
    "start_time": "2022-07-31T13:22:40.871Z"
   },
   {
    "duration": 0,
    "start_time": "2022-07-31T13:22:40.873Z"
   },
   {
    "duration": 0,
    "start_time": "2022-07-31T13:22:40.874Z"
   },
   {
    "duration": 0,
    "start_time": "2022-07-31T13:22:40.876Z"
   },
   {
    "duration": 0,
    "start_time": "2022-07-31T13:22:40.877Z"
   },
   {
    "duration": 0,
    "start_time": "2022-07-31T13:22:40.879Z"
   },
   {
    "duration": 0,
    "start_time": "2022-07-31T13:22:40.880Z"
   },
   {
    "duration": 0,
    "start_time": "2022-07-31T13:22:40.882Z"
   },
   {
    "duration": 0,
    "start_time": "2022-07-31T13:22:40.884Z"
   },
   {
    "duration": 0,
    "start_time": "2022-07-31T13:22:40.885Z"
   },
   {
    "duration": 0,
    "start_time": "2022-07-31T13:22:40.886Z"
   },
   {
    "duration": 0,
    "start_time": "2022-07-31T13:22:40.888Z"
   },
   {
    "duration": 0,
    "start_time": "2022-07-31T13:22:40.925Z"
   },
   {
    "duration": 0,
    "start_time": "2022-07-31T13:22:40.928Z"
   },
   {
    "duration": 0,
    "start_time": "2022-07-31T13:22:40.929Z"
   },
   {
    "duration": 0,
    "start_time": "2022-07-31T13:22:40.930Z"
   },
   {
    "duration": 0,
    "start_time": "2022-07-31T13:22:40.931Z"
   },
   {
    "duration": 0,
    "start_time": "2022-07-31T13:22:40.933Z"
   },
   {
    "duration": 0,
    "start_time": "2022-07-31T13:22:40.934Z"
   },
   {
    "duration": 0,
    "start_time": "2022-07-31T13:22:40.936Z"
   },
   {
    "duration": 0,
    "start_time": "2022-07-31T13:22:40.937Z"
   },
   {
    "duration": 0,
    "start_time": "2022-07-31T13:22:40.939Z"
   },
   {
    "duration": 168,
    "start_time": "2022-07-31T13:22:53.585Z"
   },
   {
    "duration": 20,
    "start_time": "2022-07-31T13:22:53.838Z"
   },
   {
    "duration": 8,
    "start_time": "2022-07-31T13:22:54.127Z"
   },
   {
    "duration": 4,
    "start_time": "2022-07-31T13:22:55.360Z"
   },
   {
    "duration": 1324,
    "start_time": "2022-07-31T13:23:02.979Z"
   },
   {
    "duration": 154,
    "start_time": "2022-07-31T13:23:04.305Z"
   },
   {
    "duration": 20,
    "start_time": "2022-07-31T13:23:04.461Z"
   },
   {
    "duration": 12,
    "start_time": "2022-07-31T13:23:04.483Z"
   },
   {
    "duration": 3,
    "start_time": "2022-07-31T13:23:04.498Z"
   },
   {
    "duration": 181,
    "start_time": "2022-07-31T13:23:04.502Z"
   },
   {
    "duration": 10,
    "start_time": "2022-07-31T13:23:04.685Z"
   },
   {
    "duration": 19,
    "start_time": "2022-07-31T13:23:04.697Z"
   },
   {
    "duration": 100,
    "start_time": "2022-07-31T13:23:04.718Z"
   },
   {
    "duration": 168,
    "start_time": "2022-07-31T13:23:04.819Z"
   },
   {
    "duration": 92,
    "start_time": "2022-07-31T13:23:04.989Z"
   },
   {
    "duration": 11,
    "start_time": "2022-07-31T13:23:05.083Z"
   },
   {
    "duration": 21,
    "start_time": "2022-07-31T13:23:05.096Z"
   },
   {
    "duration": 6,
    "start_time": "2022-07-31T13:23:05.122Z"
   },
   {
    "duration": 36,
    "start_time": "2022-07-31T13:23:05.130Z"
   },
   {
    "duration": 270,
    "start_time": "2022-07-31T13:23:05.167Z"
   },
   {
    "duration": 8,
    "start_time": "2022-07-31T13:23:05.439Z"
   },
   {
    "duration": 44,
    "start_time": "2022-07-31T13:23:05.449Z"
   },
   {
    "duration": 68,
    "start_time": "2022-07-31T13:23:05.495Z"
   },
   {
    "duration": 6,
    "start_time": "2022-07-31T13:23:05.565Z"
   },
   {
    "duration": 23,
    "start_time": "2022-07-31T13:23:05.573Z"
   },
   {
    "duration": 60,
    "start_time": "2022-07-31T13:23:05.623Z"
   },
   {
    "duration": 13,
    "start_time": "2022-07-31T13:23:05.685Z"
   },
   {
    "duration": 25,
    "start_time": "2022-07-31T13:23:05.699Z"
   },
   {
    "duration": 13,
    "start_time": "2022-07-31T13:23:05.726Z"
   },
   {
    "duration": 17,
    "start_time": "2022-07-31T13:23:05.741Z"
   },
   {
    "duration": 269,
    "start_time": "2022-07-31T13:23:05.760Z"
   },
   {
    "duration": 3,
    "start_time": "2022-07-31T13:23:06.031Z"
   },
   {
    "duration": 31,
    "start_time": "2022-07-31T13:23:06.035Z"
   },
   {
    "duration": 59,
    "start_time": "2022-07-31T13:23:06.068Z"
   },
   {
    "duration": 6,
    "start_time": "2022-07-31T13:23:06.129Z"
   },
   {
    "duration": 7,
    "start_time": "2022-07-31T13:23:06.137Z"
   },
   {
    "duration": 101,
    "start_time": "2022-07-31T13:23:06.146Z"
   },
   {
    "duration": 37,
    "start_time": "2022-07-31T13:23:06.249Z"
   },
   {
    "duration": 7,
    "start_time": "2022-07-31T13:23:06.287Z"
   },
   {
    "duration": 29,
    "start_time": "2022-07-31T13:23:06.296Z"
   },
   {
    "duration": 13,
    "start_time": "2022-07-31T13:23:06.327Z"
   },
   {
    "duration": 61,
    "start_time": "2022-07-31T13:23:06.342Z"
   },
   {
    "duration": 55,
    "start_time": "2022-07-31T13:23:06.404Z"
   },
   {
    "duration": 10,
    "start_time": "2022-07-31T13:23:06.460Z"
   },
   {
    "duration": 6,
    "start_time": "2022-07-31T13:23:06.473Z"
   },
   {
    "duration": 9,
    "start_time": "2022-07-31T13:23:06.481Z"
   }
  ],
  "kernelspec": {
   "display_name": "Python 3 (ipykernel)",
   "language": "python",
   "name": "python3"
  },
  "language_info": {
   "codemirror_mode": {
    "name": "ipython",
    "version": 3
   },
   "file_extension": ".py",
   "mimetype": "text/x-python",
   "name": "python",
   "nbconvert_exporter": "python",
   "pygments_lexer": "ipython3",
   "version": "3.9.12"
  },
  "toc": {
   "base_numbering": 1,
   "nav_menu": {},
   "number_sections": true,
   "sideBar": true,
   "skip_h1_title": true,
   "title_cell": "Table of Contents",
   "title_sidebar": "Contents",
   "toc_cell": false,
   "toc_position": {},
   "toc_section_display": true,
   "toc_window_display": false
  },
  "vscode": {
   "interpreter": {
    "hash": "a2e926f630a9acd9bf39979311f4741bf19645d7b623ffc4fc982d1f55ba2b49"
   }
  }
 },
 "nbformat": 4,
 "nbformat_minor": 4
}
